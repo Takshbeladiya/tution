{
 "cells": [
  {
   "cell_type": "markdown",
   "metadata": {},
   "source": [
    "## Python Data Type: List - Exercises"
   ]
  },
  {
   "cell_type": "markdown",
   "metadata": {},
   "source": [
    "#### 1. Write a Python program to check a list is empty or not"
   ]
  },
  {
   "cell_type": "code",
   "execution_count": 1,
   "metadata": {},
   "outputs": [
    {
     "name": "stdout",
     "output_type": "stream",
     "text": [
      "Empty\n"
     ]
    }
   ],
   "source": [
    "list1 = []\n",
    "if list1 == []:\n",
    "    print('Empty')\n",
    "else:\n",
    "    print('Not Empty')"
   ]
  },
  {
   "cell_type": "markdown",
   "metadata": {},
   "source": [
    "#### 2. Write a Python program to remove duplicates from a list."
   ]
  },
  {
   "cell_type": "code",
   "execution_count": 2,
   "metadata": {},
   "outputs": [
    {
     "data": {
      "text/plain": [
       "['a', 'b']"
      ]
     },
     "execution_count": 2,
     "metadata": {},
     "output_type": "execute_result"
    }
   ],
   "source": [
    "list1 = ['a','a','b']\n",
    "for i in list1:\n",
    "    if list1.count(i) > 1:\n",
    "        list1.remove(i)\n",
    "list1"
   ]
  },
  {
   "cell_type": "markdown",
   "metadata": {},
   "source": [
    "#### 3. Write a Python function that takes two lists and returns True if they have at least one common member"
   ]
  },
  {
   "cell_type": "code",
   "execution_count": 4,
   "metadata": {},
   "outputs": [
    {
     "name": "stdout",
     "output_type": "stream",
     "text": [
      "they have common element a\n"
     ]
    }
   ],
   "source": [
    "list1 = ['a','b','c']\n",
    "list2 = ['d','e','a']\n",
    "for i in list1:\n",
    "    if i in list2:\n",
    "        print(f'they have common element {i}')\n",
    "        break\n",
    "else:\n",
    "    print('NO common element')"
   ]
  },
  {
   "cell_type": "markdown",
   "metadata": {},
   "source": [
    "#### 4. Write a Python program to get the difference between the two lists"
   ]
  },
  {
   "cell_type": "code",
   "execution_count": 5,
   "metadata": {},
   "outputs": [
    {
     "name": "stdout",
     "output_type": "stream",
     "text": [
      "['b', 'c', 'd', 'e']\n"
     ]
    }
   ],
   "source": [
    "list1 = ['a','b','c']\n",
    "list2 = ['d','e','a']\n",
    "ans = []\n",
    "for i in list1:\n",
    "    if i not in list2:\n",
    "        ans.append(i)\n",
    "for i in list2:\n",
    "    if i not in list1:\n",
    "        ans.append(i)\n",
    "print(ans)"
   ]
  },
  {
   "cell_type": "markdown",
   "metadata": {},
   "source": [
    "#### 5. Write a Python program to find the second smallest number in a list"
   ]
  },
  {
   "cell_type": "code",
   "execution_count": 9,
   "metadata": {},
   "outputs": [
    {
     "data": {
      "text/plain": [
       "2"
      ]
     },
     "execution_count": 9,
     "metadata": {},
     "output_type": "execute_result"
    }
   ],
   "source": [
    "list1 = [2,4,3,1,6,5]\n",
    "list1.sort()\n",
    "list1[1]"
   ]
  },
  {
   "cell_type": "markdown",
   "metadata": {},
   "source": [
    "#### 6.  Write a Python program to find the second largest number in a list."
   ]
  },
  {
   "cell_type": "code",
   "execution_count": 10,
   "metadata": {},
   "outputs": [
    {
     "data": {
      "text/plain": [
       "5"
      ]
     },
     "execution_count": 10,
     "metadata": {},
     "output_type": "execute_result"
    }
   ],
   "source": [
    "list1 = [2,4,3,1,6,5]\n",
    "list1.sort()\n",
    "list1[-2]"
   ]
  },
  {
   "cell_type": "markdown",
   "metadata": {},
   "source": [
    "7. Write a Python program to get the frequency of the elements in a list"
   ]
  },
  {
   "cell_type": "code",
   "execution_count": 11,
   "metadata": {},
   "outputs": [
    {
     "data": {
      "text/plain": [
       "{'a': 2, 'b': 1, 'c': 2, 'f': 1}"
      ]
     },
     "execution_count": 11,
     "metadata": {},
     "output_type": "execute_result"
    }
   ],
   "source": [
    "list1 = ['a','b','c','c','a','f']\n",
    "dict1 = {}\n",
    "for i in list1:\n",
    "    if i not in dict1:\n",
    "        dict1[i] = 1\n",
    "    else:\n",
    "        dict1[i] += 1\n",
    "print(dict1)"
   ]
  },
  {
   "cell_type": "markdown",
   "metadata": {},
   "source": [
    "#### 8. Write a Python program to convert a list of multiple integers into a single integer\n",
    "* Sample list: [11, 33, 50]\n",
    "* Expected Output: 113350"
   ]
  },
  {
   "cell_type": "code",
   "execution_count": 14,
   "metadata": {},
   "outputs": [
    {
     "name": "stdout",
     "output_type": "stream",
     "text": [
      "4355665321239\n"
     ]
    }
   ],
   "source": [
    "list1 = [4,3,5,5,66,532,1239]\n",
    "ans = ''\n",
    "for i in list1:\n",
    "    ans += str(i)\n",
    "print(int(ans))"
   ]
  },
  {
   "cell_type": "markdown",
   "metadata": {},
   "source": [
    "#### 9. Write a Python program to compute the similarity between two lists.\n",
    "* Sample data: [\"red\", \"orange\", \"green\", \"blue\", \"white\"], [\"black\", \"yellow\", \"green\", \"blue\"]\n",
    "* Expected Output: \n",
    "* Color1-Color2: ['white', 'orange', 'red']\n",
    "* Color2-Color1: ['black', 'yellow']"
   ]
  },
  {
   "cell_type": "code",
   "execution_count": 15,
   "metadata": {},
   "outputs": [
    {
     "name": "stdout",
     "output_type": "stream",
     "text": [
      "['red', 'orange', 'white']\n",
      "['black', 'yellow']\n"
     ]
    }
   ],
   "source": [
    "list1 = [\"red\", \"orange\", \"green\", \"blue\", \"white\"]\n",
    "list2 = [\"black\", \"yellow\", \"green\", \"blue\"]\n",
    "ans1 = []\n",
    "ans2 = []\n",
    "for i in list1:\n",
    "    if i not in list2:\n",
    "        ans1.append(i)\n",
    "for i in list2:\n",
    "    if i not in list1:\n",
    "        ans2.append(i)\n",
    "print(ans1)\n",
    "print(ans2)"
   ]
  },
  {
   "cell_type": "markdown",
   "metadata": {},
   "source": [
    "#### 10. Write a Python program to check if all dictionaries in a list are empty or not.\n",
    "* Sample list : [{},{},{}]\n",
    "* Return value : True\n",
    "* Sample list : [{1,2},{},{}]\n",
    "* Return value : False"
   ]
  },
  {
   "cell_type": "code",
   "execution_count": 17,
   "metadata": {},
   "outputs": [
    {
     "name": "stdout",
     "output_type": "stream",
     "text": [
      "True\n"
     ]
    }
   ],
   "source": [
    "list1 = [{},{},{}]\n",
    "for i in list1:\n",
    "    if i != {}:\n",
    "        print('False')\n",
    "        break\n",
    "else:\n",
    "    print('True')"
   ]
  }
 ],
 "metadata": {
  "kernelspec": {
   "display_name": "Python 3 (ipykernel)",
   "language": "python",
   "name": "python3"
  },
  "language_info": {
   "codemirror_mode": {
    "name": "ipython",
    "version": 3
   },
   "file_extension": ".py",
   "mimetype": "text/x-python",
   "name": "python",
   "nbconvert_exporter": "python",
   "pygments_lexer": "ipython3",
   "version": "3.9.13"
  }
 },
 "nbformat": 4,
 "nbformat_minor": 2
}
