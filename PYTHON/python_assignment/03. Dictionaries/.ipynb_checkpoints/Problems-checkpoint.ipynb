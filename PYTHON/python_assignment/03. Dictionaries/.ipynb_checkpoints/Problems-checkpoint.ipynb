{
 "cells": [
  {
   "cell_type": "markdown",
   "metadata": {},
   "source": [
    "## Python Data Types: Dictionary"
   ]
  },
  {
   "cell_type": "markdown",
   "metadata": {},
   "source": [
    "#### 1. Write a Python script to generate and print a dictionary that contains a number (between 1 and n) in the form (x, x*x)\n",
    "* Sample Dictionary ( n = 5) : \n",
    "* Expected Output : {1: 1, 2: 4, 3: 9, 4: 16, 5: 25}\n"
   ]
  },
  {
   "cell_type": "code",
   "execution_count": 1,
   "metadata": {},
   "outputs": [
    {
     "data": {
      "text/plain": [
       "{1: 1, 2: 4, 3: 9, 4: 16, 5: 25}"
      ]
     },
     "execution_count": 1,
     "metadata": {},
     "output_type": "execute_result"
    }
   ],
   "source": [
    "dict1 = {}\n",
    "n = 5;\n",
    "for i in range(1,n+1):\n",
    "    dict1[i] = i*i\n",
    "dict1"
   ]
  },
  {
   "cell_type": "markdown",
   "metadata": {
    "collapsed": true
   },
   "source": [
    "#### 2. Write a Python program to combine two dictionary adding values for common keys\n",
    "* d1 = {'a': 100, 'b': 200, 'c':300}\n",
    "* d2 = {'a': 300, 'b': 200, 'd':400}\n",
    "* Sample output: Counter({'a': 400, 'b': 400, 'd': 400, 'c': 300})"
   ]
  },
  {
   "cell_type": "code",
   "execution_count": 27,
   "metadata": {},
   "outputs": [
    {
     "name": "stdout",
     "output_type": "stream",
     "text": [
      "{'a': 400, 'b': 400, 'c': 300, 'd': 800}\n"
     ]
    }
   ],
   "source": [
    "d1 = {'a': 100, 'b': 200, 'c':300}\n",
    "d2 = {'a': 300, 'b': 200, 'd':400}\n",
    "\n",
    "for i in d1:\n",
    "    if i in d2:\n",
    "        d1[i] = d1[i] + d2[i]\n",
    "    else:\n",
    "        pass\n",
    "\n",
    "for i in d2:\n",
    "    if i not in d1:\n",
    "        d1[i] = d2[i]\n",
    "print(d1)"
   ]
  },
  {
   "cell_type": "markdown",
   "metadata": {},
   "source": [
    "#### 3. Write a Python program to print all unique values in a dictionary\n",
    "* Sample Data : [{\"V\":\"S001\"}, {\"V\": \"S002\"}, {\"VI\": \"S001\"}, {\"VI\": \"S005\"}, {\"VII\":\"S005\"}, {\"V\":\"S009\"},{\"VIII\":\"S007\"}]\n",
    "* Expected Output : Unique Values: {'S005', 'S002', 'S007', 'S001', 'S009'}"
   ]
  },
  {
   "cell_type": "code",
   "execution_count": 43,
   "metadata": {},
   "outputs": [
    {
     "name": "stdout",
     "output_type": "stream",
     "text": [
      "{'S009', 'S002', 'S001', 'S007', 'S005'}\n"
     ]
    }
   ],
   "source": [
    "list1 = [{\"V\":\"S001\"}, {\"V\": \"S002\"}, {\"VI\": \"S001\"}, {\"VI\": \"S005\"}, {\"VII\":\"S005\"}, {\"V\":\"S009\"},{\"VIII\":\"S007\"}]\n",
    "ans = set()\n",
    "for i in list1:\n",
    "    for j in i:\n",
    "        ans.add(i[j])\n",
    "print(ans)"
   ]
  },
  {
   "cell_type": "markdown",
   "metadata": {},
   "source": [
    "#### 4. Write a Python program to create and display all combinations of letters, selecting each letter from a different key in a dictionary.\n",
    "* Sample data : {'1':['a','b'], '2':['c','d']}\n",
    "###### Expected Output: \n",
    "ac\n",
    "ad\n",
    "bc\n",
    "bd"
   ]
  },
  {
   "cell_type": "code",
   "execution_count": 50,
   "metadata": {},
   "outputs": [
    {
     "name": "stdout",
     "output_type": "stream",
     "text": [
      "['ac', 'ad', 'bc', 'bd']\n"
     ]
    }
   ],
   "source": [
    "dict1 = {'1':['a','b'], '2':['c','d']}\n",
    "list1 = []\n",
    "for i in dict1:\n",
    "    list1.append(dict1[i])\n",
    "ans = []\n",
    "for i in list1[0]:\n",
    "    for j in list1[1]:\n",
    "        str1 = ''\n",
    "        str1 += i + j\n",
    "        ans.append(str1)\n",
    "print(ans)"
   ]
  },
  {
   "cell_type": "markdown",
   "metadata": {},
   "source": [
    "#### 5. Write a Python program to create a dictionary from a string.\n",
    "* Note: Track the count of the letters from the string.\n",
    "* Sample string : 'w3resource'\n",
    "* Expected output: {'3': 1, 's': 1, 'r': 2, 'u': 1, 'w': 1, 'c': 1, 'e': 2, 'o': 1}"
   ]
  },
  {
   "cell_type": "code",
   "execution_count": 53,
   "metadata": {},
   "outputs": [
    {
     "name": "stdout",
     "output_type": "stream",
     "text": [
      "{'w': 1, '3': 2, 'r': 8, 'e': 10, 's': 5, 'o': 6, 'u': 7, 'c': 9}\n"
     ]
    }
   ],
   "source": [
    "str1 = 'w3resource'\n",
    "dict1 = {}\n",
    "idx = 1\n",
    "for i in str1:\n",
    "    dict1[i] = idx\n",
    "    idx += 1\n",
    "print(dict1)"
   ]
  },
  {
   "cell_type": "markdown",
   "metadata": {},
   "source": [
    "#### 6. Write a Python program to count the values associated with key in a dictionary.\n",
    "* Sample data: = [{'id': 1, 'success': True, 'name': 'Lary'}, {'id': 2, 'success': False, 'name': 'Rabi'}, {'id': 3, 'success': True, 'name': 'Alex'}]\n",
    "* Expected result: Count of how many dictionaries have success as True"
   ]
  },
  {
   "cell_type": "code",
   "execution_count": 56,
   "metadata": {},
   "outputs": [
    {
     "name": "stdout",
     "output_type": "stream",
     "text": [
      "2\n"
     ]
    }
   ],
   "source": [
    "list1 =  [{'id': 1, 'success': True, 'name': 'Lary'}, \n",
    "          {'id': 2, 'success': False, 'name': 'Rabi'}, \n",
    "          {'id': 3, 'success': True, 'name': 'Alex'}]\n",
    "count = 0\n",
    "for i in list1:\n",
    "    if i['success'] == True:\n",
    "        count += 1\n",
    "print(count)"
   ]
  },
  {
   "cell_type": "markdown",
   "metadata": {},
   "source": [
    "#### 7. Write a Python program to convert a list into a nested dictionary of keys."
   ]
  },
  {
   "cell_type": "code",
   "execution_count": 80,
   "metadata": {},
   "outputs": [
    {
     "name": "stdout",
     "output_type": "stream",
     "text": [
      "{'a': {'b': {'c': {'d': {'f': {}}}}}}\n"
     ]
    }
   ],
   "source": [
    "list1 = ['a','b','c','d','f']\n",
    "dict1 = current = {}\n",
    "for i in list1:\n",
    "    dict1[i] = {}\n",
    "    dict1 = dict1[i]\n",
    "print(current)"
   ]
  },
  {
   "cell_type": "markdown",
   "metadata": {},
   "source": [
    "#### 8. Write a Python program to sort a list alphabetically in a dictionary."
   ]
  },
  {
   "cell_type": "code",
   "execution_count": 111,
   "metadata": {},
   "outputs": [
    {
     "name": "stdout",
     "output_type": "stream",
     "text": [
      "{'L1': [12, 34, 56, 87], 'L2': [0, 10, 23, 30], 'L3': [1, 2, 6, 9], 'L4': [21, 34, 40, 67]}\n"
     ]
    }
   ],
   "source": [
    "dict1 ={\n",
    "    \"L1\":[87, 34, 56, 12],\n",
    "    \"L2\":[23, 0, 30, 10],\n",
    "    \"L3\":[1, 6, 2, 9],\n",
    "    \"L4\":[40, 34, 21, 67]\n",
    "}\n",
    "\n",
    "for i in dict1:\n",
    "    dict1[i] = sorted(dict1[i])\n",
    "print(dict1)"
   ]
  },
  {
   "cell_type": "markdown",
   "metadata": {},
   "source": [
    "#### 9. Write a Python program to sort Counter by value.\n",
    "* Sample data : {'Math':81, 'Physics':83, 'Chemistry':87}\n",
    "* Expected data: [('Chemistry', 87), ('Physics', 83), ('Math', 81)]"
   ]
  },
  {
   "cell_type": "code",
   "execution_count": 100,
   "metadata": {},
   "outputs": [
    {
     "name": "stdout",
     "output_type": "stream",
     "text": [
      "[('Chemistry', 87), ('Math', 81), ('Physics', 83)]\n"
     ]
    }
   ],
   "source": [
    "dict1 = {'Math':81, 'Physics':83, 'Chemistry':87}\n",
    "list1 = []\n",
    "for i in dict1:\n",
    "    list1.append((i,dict1[i]))\n",
    "list1 = sorted(list1, key = lambda x: x[0])\n",
    "print(list1)"
   ]
  },
  {
   "cell_type": "markdown",
   "metadata": {},
   "source": [
    "#### 10. Write a Python program to match key values in two dictionaries. Go to the editor\n",
    "* Sample dictionary: {'key1': 1, 'key2': 3, 'key3': 2}, {'key1': 1, 'key2': 2}\n",
    "* Expected output: key1: 1 is present in both x and y"
   ]
  },
  {
   "cell_type": "code",
   "execution_count": 115,
   "metadata": {},
   "outputs": [
    {
     "name": "stdout",
     "output_type": "stream",
     "text": [
      "key1:1 is present in both x and y\n",
      "key2:3 is present in both x and y\n"
     ]
    }
   ],
   "source": [
    "dict1 = {'key1': 1, 'key2': 3, 'key3': 2}\n",
    "dict2 = {'key1': 1, 'key2': 2}\n",
    "for i in dict1:\n",
    "    if i in dict2:\n",
    "        print(f'{i}:{dict1[i]} is present in both x and y')"
   ]
  }
 ],
 "metadata": {
  "kernelspec": {
   "display_name": "Python 3 (ipykernel)",
   "language": "python",
   "name": "python3"
  },
  "language_info": {
   "codemirror_mode": {
    "name": "ipython",
    "version": 3
   },
   "file_extension": ".py",
   "mimetype": "text/x-python",
   "name": "python",
   "nbconvert_exporter": "python",
   "pygments_lexer": "ipython3",
   "version": "3.9.13"
  }
 },
 "nbformat": 4,
 "nbformat_minor": 2
}
