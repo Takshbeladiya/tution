{
 "cells": [
  {
   "cell_type": "code",
   "execution_count": 33,
   "id": "d13aa4b3",
   "metadata": {},
   "outputs": [
    {
     "name": "stdout",
     "output_type": "stream",
     "text": [
      "9\n",
      "even_series = 6.97964429173333\n",
      "odd_series = 6.611764850561836\n"
     ]
    }
   ],
   "source": [
    "# 1. Write a python program using function to find the sum of odd series\n",
    "# and even series\n",
    "# Odd series: 12\n",
    "# / 1! + 32\n",
    "# / 3! + 52\n",
    "# / 5!+……n\n",
    "# Even series: 2\n",
    "# 2\n",
    "# / 2! + 42\n",
    "# / 4! + 62\n",
    "# / 6!+……n\n",
    "\n",
    "def fact(n):\n",
    "    ans = 1\n",
    "    for i in range(1,n):\n",
    "        ans = ans * i\n",
    "    return ans \n",
    "\n",
    "def sum(n):\n",
    "    odd_series = 0\n",
    "    even_series = 0\n",
    "\n",
    "    for i in range(1,n+1):\n",
    "        f = fact((i*2)-1)\n",
    "        odd_series = odd_series + (((i*2)-1)**2)/f\n",
    "        \n",
    "    for i in range(1,n+1):\n",
    "        f = fact(i*2)\n",
    "        even_series = even_series + ((i*2)**2)/f\n",
    "    \n",
    "    return [even_series,odd_series]\n",
    "\n",
    "a1 = sum(int(input()))\n",
    "print('even_series =',a1[0])\n",
    "print('odd_series =',a1[1])"
   ]
  },
  {
   "cell_type": "code",
   "execution_count": 6,
   "id": "ff651b18",
   "metadata": {},
   "outputs": [
    {
     "name": "stdout",
     "output_type": "stream",
     "text": [
      "1,1,1,2,2,2,3,3,4,4,5\n",
      "{1: 3, 2: 3, 3: 2, 4: 2, 5: 1}\n"
     ]
    }
   ],
   "source": [
    "# 2. Counting the frequencies in a list using dictionary in Python.\n",
    "# Input : [1, 1, 1, 5, 5, 3, 1, 3, 3, 1,4, 4, 4, 2, 2, 2, 2]\n",
    "# Expected output : 1 : 5 , 2 : 4 , 3 : 3 , 4 : 3 , 5 : 2\n",
    "\n",
    "\n",
    "def freq(list1):\n",
    "    dict1 = {}\n",
    "    for i in list1:\n",
    "        if i in dict1:\n",
    "            dict1[i] += 1\n",
    "        else:\n",
    "            dict1[i] = 1\n",
    "    print(dict1)\n",
    "    \n",
    "a1 = freq(list1 = list(map(int,input().split(','))))\n",
    "print(a1)"
   ]
  },
  {
   "cell_type": "code",
   "execution_count": 12,
   "id": "b63198f0",
   "metadata": {},
   "outputs": [
    {
     "name": "stdout",
     "output_type": "stream",
     "text": [
      "5\n",
      "120\n"
     ]
    }
   ],
   "source": [
    "# 3. Python Program to Find Factorial of Number Using Recursion\n",
    "\n",
    "def fact(n):\n",
    "    if n==0:\n",
    "        return 1\n",
    "    else:\n",
    "        return n * fact(n-1)\n",
    "\n",
    "n = int(input())\n",
    "a1 = fact(n)\n",
    "print(a1)"
   ]
  },
  {
   "cell_type": "code",
   "execution_count": 29,
   "id": "cb712fc5",
   "metadata": {},
   "outputs": [
    {
     "name": "stdout",
     "output_type": "stream",
     "text": [
      "1,3,4,5,1,5,3\n",
      "[1, 3, 4, 5]\n"
     ]
    }
   ],
   "source": [
    "# 4. Write a Python function that takes a list and returns a new list with\n",
    "# unique elements of the first list.\n",
    "\n",
    "def unique(list1):\n",
    "    list2 = []\n",
    "    for i in list1:\n",
    "        if i not in list2:\n",
    "            list2.append(i)\n",
    "    return list2\n",
    "\n",
    "a1 = unique(list1 = list(map(int,input().split(','))))\n",
    "print(a1)"
   ]
  },
  {
   "cell_type": "code",
   "execution_count": 28,
   "id": "6284466b",
   "metadata": {},
   "outputs": [
    {
     "name": "stdout",
     "output_type": "stream",
     "text": [
      "not panagram\n",
      "12\n"
     ]
    }
   ],
   "source": [
    "# 5. Write a Python function to check whether a string is a pangram or not.\n",
    "# Note : Pangrams are words or sentences containing every letter of the\n",
    "# alphabet at least once.\n",
    "# For example : \"The quick brown fox jumps over the lazy dog\"\n",
    "\n",
    "def panagram(str1):\n",
    "    alpa = \"abcdefghijklmnopqrstuvwxyz\"\n",
    "    count = 0\n",
    "    for i in alpa:\n",
    "        if i in str1:\n",
    "            count += 1\n",
    "    if count == 26:\n",
    "        return 'panagram'\n",
    "    else:\n",
    "        return 'not panagram'\n",
    "    \n",
    "str1 = panagram(\"The qiick brown fox jkmps over the lazy dog\")\n",
    "print(str1)\n",
    "print(len(str1))"
   ]
  },
  {
   "cell_type": "code",
   "execution_count": null,
   "id": "ef7ec655",
   "metadata": {},
   "outputs": [],
   "source": []
  },
  {
   "cell_type": "code",
   "execution_count": null,
   "id": "9898308e",
   "metadata": {},
   "outputs": [],
   "source": []
  }
 ],
 "metadata": {
  "kernelspec": {
   "display_name": "Python 3 (ipykernel)",
   "language": "python",
   "name": "python3"
  },
  "language_info": {
   "codemirror_mode": {
    "name": "ipython",
    "version": 3
   },
   "file_extension": ".py",
   "mimetype": "text/x-python",
   "name": "python",
   "nbconvert_exporter": "python",
   "pygments_lexer": "ipython3",
   "version": "3.9.12"
  }
 },
 "nbformat": 4,
 "nbformat_minor": 5
}
