{
 "cells": [
  {
   "cell_type": "code",
   "execution_count": 3,
   "id": "9f7b546e",
   "metadata": {},
   "outputs": [],
   "source": [
    "import numpy as np\n",
    "import pandas as pd\n",
    "import matplotlib.pyplot as plt\n",
    "import seaborn as sns\n",
    "import sklearn\n",
    "from sklearn.preprocessing import StandardScaler\n",
    "from sklearn.dummy import DummyClassifier\n",
    "from sklearn.linear_model import Ridge, LogisticRegression\n",
    "from sklearn.model_selection import train_test_split\n",
    "from sklearn.pipeline import make_pipeline\n",
    "\n",
    "car = pd.read_csv('7. Udemy Courses.csv')"
   ]
  },
  {
   "cell_type": "code",
   "execution_count": 59,
   "id": "f3f649e1",
   "metadata": {},
   "outputs": [],
   "source": [
    "car.drop_duplicates(inplace = True, ignore_index = True)"
   ]
  },
  {
   "cell_type": "code",
   "execution_count": 60,
   "id": "56ae322d",
   "metadata": {},
   "outputs": [
    {
     "data": {
      "text/html": [
       "<div>\n",
       "<style scoped>\n",
       "    .dataframe tbody tr th:only-of-type {\n",
       "        vertical-align: middle;\n",
       "    }\n",
       "\n",
       "    .dataframe tbody tr th {\n",
       "        vertical-align: top;\n",
       "    }\n",
       "\n",
       "    .dataframe thead th {\n",
       "        text-align: right;\n",
       "    }\n",
       "</style>\n",
       "<table border=\"1\" class=\"dataframe\">\n",
       "  <thead>\n",
       "    <tr style=\"text-align: right;\">\n",
       "      <th></th>\n",
       "      <th>course_title</th>\n",
       "      <th>is_paid</th>\n",
       "      <th>price</th>\n",
       "      <th>num_subscribers</th>\n",
       "      <th>num_reviews</th>\n",
       "      <th>num_lectures</th>\n",
       "      <th>level</th>\n",
       "      <th>content_duration</th>\n",
       "      <th>published_timestamp</th>\n",
       "      <th>subject</th>\n",
       "    </tr>\n",
       "  </thead>\n",
       "  <tbody>\n",
       "    <tr>\n",
       "      <th>0</th>\n",
       "      <td>#1 Piano Hand Coordination: Play 10th Ballad i...</td>\n",
       "      <td>True</td>\n",
       "      <td>35</td>\n",
       "      <td>3137</td>\n",
       "      <td>18</td>\n",
       "      <td>68</td>\n",
       "      <td>All Levels</td>\n",
       "      <td>1.5 hours</td>\n",
       "      <td>2014-09-18T05:07:05Z</td>\n",
       "      <td>Musical Instruments</td>\n",
       "    </tr>\n",
       "    <tr>\n",
       "      <th>1</th>\n",
       "      <td>#10 Hand Coordination - Transfer Chord Ballad ...</td>\n",
       "      <td>True</td>\n",
       "      <td>75</td>\n",
       "      <td>1593</td>\n",
       "      <td>1</td>\n",
       "      <td>41</td>\n",
       "      <td>Intermediate Level</td>\n",
       "      <td>1 hour</td>\n",
       "      <td>2017-04-12T19:06:34Z</td>\n",
       "      <td>Musical Instruments</td>\n",
       "    </tr>\n",
       "    <tr>\n",
       "      <th>2</th>\n",
       "      <td>#12 Hand Coordination: Let your Hands dance wi...</td>\n",
       "      <td>True</td>\n",
       "      <td>75</td>\n",
       "      <td>482</td>\n",
       "      <td>1</td>\n",
       "      <td>47</td>\n",
       "      <td>Intermediate Level</td>\n",
       "      <td>1.5 hours</td>\n",
       "      <td>2017-04-26T18:34:57Z</td>\n",
       "      <td>Musical Instruments</td>\n",
       "    </tr>\n",
       "    <tr>\n",
       "      <th>3</th>\n",
       "      <td>#4 Piano Hand Coordination: Fun Piano Runs in ...</td>\n",
       "      <td>True</td>\n",
       "      <td>75</td>\n",
       "      <td>850</td>\n",
       "      <td>3</td>\n",
       "      <td>43</td>\n",
       "      <td>Intermediate Level</td>\n",
       "      <td>1 hour</td>\n",
       "      <td>2017-02-21T23:48:18Z</td>\n",
       "      <td>Musical Instruments</td>\n",
       "    </tr>\n",
       "    <tr>\n",
       "      <th>4</th>\n",
       "      <td>#5  Piano Hand Coordination:  Piano Runs in 2 ...</td>\n",
       "      <td>True</td>\n",
       "      <td>75</td>\n",
       "      <td>940</td>\n",
       "      <td>3</td>\n",
       "      <td>32</td>\n",
       "      <td>Intermediate Level</td>\n",
       "      <td>37 mins</td>\n",
       "      <td>2017-02-21T23:44:49Z</td>\n",
       "      <td>Musical Instruments</td>\n",
       "    </tr>\n",
       "    <tr>\n",
       "      <th>...</th>\n",
       "      <td>...</td>\n",
       "      <td>...</td>\n",
       "      <td>...</td>\n",
       "      <td>...</td>\n",
       "      <td>...</td>\n",
       "      <td>...</td>\n",
       "      <td>...</td>\n",
       "      <td>...</td>\n",
       "      <td>...</td>\n",
       "      <td>...</td>\n",
       "    </tr>\n",
       "    <tr>\n",
       "      <th>3671</th>\n",
       "      <td>Your Own Site in 45 Min: The Complete Wordpres...</td>\n",
       "      <td>True</td>\n",
       "      <td>120</td>\n",
       "      <td>1566</td>\n",
       "      <td>29</td>\n",
       "      <td>36</td>\n",
       "      <td>All Levels</td>\n",
       "      <td>4 hours</td>\n",
       "      <td>2015-04-20T22:15:17Z</td>\n",
       "      <td>Web Development</td>\n",
       "    </tr>\n",
       "    <tr>\n",
       "      <th>3672</th>\n",
       "      <td>Your Second Course on Piano: Two Handed Playing</td>\n",
       "      <td>True</td>\n",
       "      <td>70</td>\n",
       "      <td>1018</td>\n",
       "      <td>12</td>\n",
       "      <td>22</td>\n",
       "      <td>Beginner Level</td>\n",
       "      <td>5 hours</td>\n",
       "      <td>2015-10-26T20:04:21Z</td>\n",
       "      <td>Musical Instruments</td>\n",
       "    </tr>\n",
       "    <tr>\n",
       "      <th>3673</th>\n",
       "      <td>Zend Framework 2: Learn the PHP framework ZF2 ...</td>\n",
       "      <td>True</td>\n",
       "      <td>40</td>\n",
       "      <td>723</td>\n",
       "      <td>130</td>\n",
       "      <td>37</td>\n",
       "      <td>All Levels</td>\n",
       "      <td>6.5 hours</td>\n",
       "      <td>2015-11-11T18:55:45Z</td>\n",
       "      <td>Web Development</td>\n",
       "    </tr>\n",
       "    <tr>\n",
       "      <th>3674</th>\n",
       "      <td>Zoho Books Gestion Financière d'Entreprise pas...</td>\n",
       "      <td>False</td>\n",
       "      <td>Free</td>\n",
       "      <td>229</td>\n",
       "      <td>0</td>\n",
       "      <td>33</td>\n",
       "      <td>All Levels</td>\n",
       "      <td>2 hours</td>\n",
       "      <td>2017-05-26T16:45:55Z</td>\n",
       "      <td>Business Finance</td>\n",
       "    </tr>\n",
       "    <tr>\n",
       "      <th>3675</th>\n",
       "      <td>Zombie Apocalypse Photoshop Actions</td>\n",
       "      <td>True</td>\n",
       "      <td>50</td>\n",
       "      <td>12</td>\n",
       "      <td>1</td>\n",
       "      <td>15</td>\n",
       "      <td>All Levels</td>\n",
       "      <td>1.5 hours</td>\n",
       "      <td>2016-09-26T22:19:48Z</td>\n",
       "      <td>Graphic Design</td>\n",
       "    </tr>\n",
       "  </tbody>\n",
       "</table>\n",
       "<p>3676 rows × 10 columns</p>\n",
       "</div>"
      ],
      "text/plain": [
       "                                           course_title  is_paid price  \\\n",
       "0     #1 Piano Hand Coordination: Play 10th Ballad i...     True    35   \n",
       "1     #10 Hand Coordination - Transfer Chord Ballad ...     True    75   \n",
       "2     #12 Hand Coordination: Let your Hands dance wi...     True    75   \n",
       "3     #4 Piano Hand Coordination: Fun Piano Runs in ...     True    75   \n",
       "4     #5  Piano Hand Coordination:  Piano Runs in 2 ...     True    75   \n",
       "...                                                 ...      ...   ...   \n",
       "3671  Your Own Site in 45 Min: The Complete Wordpres...     True   120   \n",
       "3672    Your Second Course on Piano: Two Handed Playing     True    70   \n",
       "3673  Zend Framework 2: Learn the PHP framework ZF2 ...     True    40   \n",
       "3674  Zoho Books Gestion Financière d'Entreprise pas...    False  Free   \n",
       "3675                Zombie Apocalypse Photoshop Actions     True    50   \n",
       "\n",
       "      num_subscribers  num_reviews  num_lectures               level  \\\n",
       "0                3137           18            68          All Levels   \n",
       "1                1593            1            41  Intermediate Level   \n",
       "2                 482            1            47  Intermediate Level   \n",
       "3                 850            3            43  Intermediate Level   \n",
       "4                 940            3            32  Intermediate Level   \n",
       "...               ...          ...           ...                 ...   \n",
       "3671             1566           29            36          All Levels   \n",
       "3672             1018           12            22      Beginner Level   \n",
       "3673              723          130            37          All Levels   \n",
       "3674              229            0            33          All Levels   \n",
       "3675               12            1            15          All Levels   \n",
       "\n",
       "     content_duration   published_timestamp              subject  \n",
       "0           1.5 hours  2014-09-18T05:07:05Z  Musical Instruments  \n",
       "1              1 hour  2017-04-12T19:06:34Z  Musical Instruments  \n",
       "2           1.5 hours  2017-04-26T18:34:57Z  Musical Instruments  \n",
       "3              1 hour  2017-02-21T23:48:18Z  Musical Instruments  \n",
       "4             37 mins  2017-02-21T23:44:49Z  Musical Instruments  \n",
       "...               ...                   ...                  ...  \n",
       "3671          4 hours  2015-04-20T22:15:17Z      Web Development  \n",
       "3672          5 hours  2015-10-26T20:04:21Z  Musical Instruments  \n",
       "3673        6.5 hours  2015-11-11T18:55:45Z      Web Development  \n",
       "3674          2 hours  2017-05-26T16:45:55Z     Business Finance  \n",
       "3675        1.5 hours  2016-09-26T22:19:48Z       Graphic Design  \n",
       "\n",
       "[3676 rows x 10 columns]"
      ]
     },
     "execution_count": 60,
     "metadata": {},
     "output_type": "execute_result"
    }
   ],
   "source": [
    "car"
   ]
  },
  {
   "cell_type": "code",
   "execution_count": 28,
   "id": "e37b9196",
   "metadata": {},
   "outputs": [
    {
     "ename": "KeyError",
     "evalue": "\"['course_id'] not found in axis\"",
     "output_type": "error",
     "traceback": [
      "\u001b[1;31m---------------------------------------------------------------------------\u001b[0m",
      "\u001b[1;31mKeyError\u001b[0m                                  Traceback (most recent call last)",
      "\u001b[1;32m~\\AppData\\Local\\Temp\\ipykernel_17124\\2455920615.py\u001b[0m in \u001b[0;36m<module>\u001b[1;34m\u001b[0m\n\u001b[1;32m----> 1\u001b[1;33m \u001b[0mcar\u001b[0m\u001b[1;33m.\u001b[0m\u001b[0mdrop\u001b[0m\u001b[1;33m(\u001b[0m\u001b[0mcolumns\u001b[0m \u001b[1;33m=\u001b[0m \u001b[1;33m[\u001b[0m\u001b[1;34m'course_id'\u001b[0m\u001b[1;33m]\u001b[0m\u001b[1;33m,\u001b[0m \u001b[0minplace\u001b[0m \u001b[1;33m=\u001b[0m \u001b[1;32mTrue\u001b[0m\u001b[1;33m)\u001b[0m\u001b[1;33m\u001b[0m\u001b[1;33m\u001b[0m\u001b[0m\n\u001b[0m",
      "\u001b[1;32m~\\anaconda3\\lib\\site-packages\\pandas\\util\\_decorators.py\u001b[0m in \u001b[0;36mwrapper\u001b[1;34m(*args, **kwargs)\u001b[0m\n\u001b[0;32m    309\u001b[0m                     \u001b[0mstacklevel\u001b[0m\u001b[1;33m=\u001b[0m\u001b[0mstacklevel\u001b[0m\u001b[1;33m,\u001b[0m\u001b[1;33m\u001b[0m\u001b[1;33m\u001b[0m\u001b[0m\n\u001b[0;32m    310\u001b[0m                 )\n\u001b[1;32m--> 311\u001b[1;33m             \u001b[1;32mreturn\u001b[0m \u001b[0mfunc\u001b[0m\u001b[1;33m(\u001b[0m\u001b[1;33m*\u001b[0m\u001b[0margs\u001b[0m\u001b[1;33m,\u001b[0m \u001b[1;33m**\u001b[0m\u001b[0mkwargs\u001b[0m\u001b[1;33m)\u001b[0m\u001b[1;33m\u001b[0m\u001b[1;33m\u001b[0m\u001b[0m\n\u001b[0m\u001b[0;32m    312\u001b[0m \u001b[1;33m\u001b[0m\u001b[0m\n\u001b[0;32m    313\u001b[0m         \u001b[1;32mreturn\u001b[0m \u001b[0mwrapper\u001b[0m\u001b[1;33m\u001b[0m\u001b[1;33m\u001b[0m\u001b[0m\n",
      "\u001b[1;32m~\\anaconda3\\lib\\site-packages\\pandas\\core\\frame.py\u001b[0m in \u001b[0;36mdrop\u001b[1;34m(self, labels, axis, index, columns, level, inplace, errors)\u001b[0m\n\u001b[0;32m   4955\u001b[0m                 \u001b[0mweight\u001b[0m  \u001b[1;36m1.0\u001b[0m     \u001b[1;36m0.8\u001b[0m\u001b[1;33m\u001b[0m\u001b[1;33m\u001b[0m\u001b[0m\n\u001b[0;32m   4956\u001b[0m         \"\"\"\n\u001b[1;32m-> 4957\u001b[1;33m         return super().drop(\n\u001b[0m\u001b[0;32m   4958\u001b[0m             \u001b[0mlabels\u001b[0m\u001b[1;33m=\u001b[0m\u001b[0mlabels\u001b[0m\u001b[1;33m,\u001b[0m\u001b[1;33m\u001b[0m\u001b[1;33m\u001b[0m\u001b[0m\n\u001b[0;32m   4959\u001b[0m             \u001b[0maxis\u001b[0m\u001b[1;33m=\u001b[0m\u001b[0maxis\u001b[0m\u001b[1;33m,\u001b[0m\u001b[1;33m\u001b[0m\u001b[1;33m\u001b[0m\u001b[0m\n",
      "\u001b[1;32m~\\anaconda3\\lib\\site-packages\\pandas\\core\\generic.py\u001b[0m in \u001b[0;36mdrop\u001b[1;34m(self, labels, axis, index, columns, level, inplace, errors)\u001b[0m\n\u001b[0;32m   4265\u001b[0m         \u001b[1;32mfor\u001b[0m \u001b[0maxis\u001b[0m\u001b[1;33m,\u001b[0m \u001b[0mlabels\u001b[0m \u001b[1;32min\u001b[0m \u001b[0maxes\u001b[0m\u001b[1;33m.\u001b[0m\u001b[0mitems\u001b[0m\u001b[1;33m(\u001b[0m\u001b[1;33m)\u001b[0m\u001b[1;33m:\u001b[0m\u001b[1;33m\u001b[0m\u001b[1;33m\u001b[0m\u001b[0m\n\u001b[0;32m   4266\u001b[0m             \u001b[1;32mif\u001b[0m \u001b[0mlabels\u001b[0m \u001b[1;32mis\u001b[0m \u001b[1;32mnot\u001b[0m \u001b[1;32mNone\u001b[0m\u001b[1;33m:\u001b[0m\u001b[1;33m\u001b[0m\u001b[1;33m\u001b[0m\u001b[0m\n\u001b[1;32m-> 4267\u001b[1;33m                 \u001b[0mobj\u001b[0m \u001b[1;33m=\u001b[0m \u001b[0mobj\u001b[0m\u001b[1;33m.\u001b[0m\u001b[0m_drop_axis\u001b[0m\u001b[1;33m(\u001b[0m\u001b[0mlabels\u001b[0m\u001b[1;33m,\u001b[0m \u001b[0maxis\u001b[0m\u001b[1;33m,\u001b[0m \u001b[0mlevel\u001b[0m\u001b[1;33m=\u001b[0m\u001b[0mlevel\u001b[0m\u001b[1;33m,\u001b[0m \u001b[0merrors\u001b[0m\u001b[1;33m=\u001b[0m\u001b[0merrors\u001b[0m\u001b[1;33m)\u001b[0m\u001b[1;33m\u001b[0m\u001b[1;33m\u001b[0m\u001b[0m\n\u001b[0m\u001b[0;32m   4268\u001b[0m \u001b[1;33m\u001b[0m\u001b[0m\n\u001b[0;32m   4269\u001b[0m         \u001b[1;32mif\u001b[0m \u001b[0minplace\u001b[0m\u001b[1;33m:\u001b[0m\u001b[1;33m\u001b[0m\u001b[1;33m\u001b[0m\u001b[0m\n",
      "\u001b[1;32m~\\anaconda3\\lib\\site-packages\\pandas\\core\\generic.py\u001b[0m in \u001b[0;36m_drop_axis\u001b[1;34m(self, labels, axis, level, errors, consolidate, only_slice)\u001b[0m\n\u001b[0;32m   4309\u001b[0m                 \u001b[0mnew_axis\u001b[0m \u001b[1;33m=\u001b[0m \u001b[0maxis\u001b[0m\u001b[1;33m.\u001b[0m\u001b[0mdrop\u001b[0m\u001b[1;33m(\u001b[0m\u001b[0mlabels\u001b[0m\u001b[1;33m,\u001b[0m \u001b[0mlevel\u001b[0m\u001b[1;33m=\u001b[0m\u001b[0mlevel\u001b[0m\u001b[1;33m,\u001b[0m \u001b[0merrors\u001b[0m\u001b[1;33m=\u001b[0m\u001b[0merrors\u001b[0m\u001b[1;33m)\u001b[0m\u001b[1;33m\u001b[0m\u001b[1;33m\u001b[0m\u001b[0m\n\u001b[0;32m   4310\u001b[0m             \u001b[1;32melse\u001b[0m\u001b[1;33m:\u001b[0m\u001b[1;33m\u001b[0m\u001b[1;33m\u001b[0m\u001b[0m\n\u001b[1;32m-> 4311\u001b[1;33m                 \u001b[0mnew_axis\u001b[0m \u001b[1;33m=\u001b[0m \u001b[0maxis\u001b[0m\u001b[1;33m.\u001b[0m\u001b[0mdrop\u001b[0m\u001b[1;33m(\u001b[0m\u001b[0mlabels\u001b[0m\u001b[1;33m,\u001b[0m \u001b[0merrors\u001b[0m\u001b[1;33m=\u001b[0m\u001b[0merrors\u001b[0m\u001b[1;33m)\u001b[0m\u001b[1;33m\u001b[0m\u001b[1;33m\u001b[0m\u001b[0m\n\u001b[0m\u001b[0;32m   4312\u001b[0m             \u001b[0mindexer\u001b[0m \u001b[1;33m=\u001b[0m \u001b[0maxis\u001b[0m\u001b[1;33m.\u001b[0m\u001b[0mget_indexer\u001b[0m\u001b[1;33m(\u001b[0m\u001b[0mnew_axis\u001b[0m\u001b[1;33m)\u001b[0m\u001b[1;33m\u001b[0m\u001b[1;33m\u001b[0m\u001b[0m\n\u001b[0;32m   4313\u001b[0m \u001b[1;33m\u001b[0m\u001b[0m\n",
      "\u001b[1;32m~\\anaconda3\\lib\\site-packages\\pandas\\core\\indexes\\base.py\u001b[0m in \u001b[0;36mdrop\u001b[1;34m(self, labels, errors)\u001b[0m\n\u001b[0;32m   6659\u001b[0m         \u001b[1;32mif\u001b[0m \u001b[0mmask\u001b[0m\u001b[1;33m.\u001b[0m\u001b[0many\u001b[0m\u001b[1;33m(\u001b[0m\u001b[1;33m)\u001b[0m\u001b[1;33m:\u001b[0m\u001b[1;33m\u001b[0m\u001b[1;33m\u001b[0m\u001b[0m\n\u001b[0;32m   6660\u001b[0m             \u001b[1;32mif\u001b[0m \u001b[0merrors\u001b[0m \u001b[1;33m!=\u001b[0m \u001b[1;34m\"ignore\"\u001b[0m\u001b[1;33m:\u001b[0m\u001b[1;33m\u001b[0m\u001b[1;33m\u001b[0m\u001b[0m\n\u001b[1;32m-> 6661\u001b[1;33m                 \u001b[1;32mraise\u001b[0m \u001b[0mKeyError\u001b[0m\u001b[1;33m(\u001b[0m\u001b[1;34mf\"{list(labels[mask])} not found in axis\"\u001b[0m\u001b[1;33m)\u001b[0m\u001b[1;33m\u001b[0m\u001b[1;33m\u001b[0m\u001b[0m\n\u001b[0m\u001b[0;32m   6662\u001b[0m             \u001b[0mindexer\u001b[0m \u001b[1;33m=\u001b[0m \u001b[0mindexer\u001b[0m\u001b[1;33m[\u001b[0m\u001b[1;33m~\u001b[0m\u001b[0mmask\u001b[0m\u001b[1;33m]\u001b[0m\u001b[1;33m\u001b[0m\u001b[1;33m\u001b[0m\u001b[0m\n\u001b[0;32m   6663\u001b[0m         \u001b[1;32mreturn\u001b[0m \u001b[0mself\u001b[0m\u001b[1;33m.\u001b[0m\u001b[0mdelete\u001b[0m\u001b[1;33m(\u001b[0m\u001b[0mindexer\u001b[0m\u001b[1;33m)\u001b[0m\u001b[1;33m\u001b[0m\u001b[1;33m\u001b[0m\u001b[0m\n",
      "\u001b[1;31mKeyError\u001b[0m: \"['course_id'] not found in axis\""
     ]
    }
   ],
   "source": [
    "car.drop(columns = ['course_id'], inplace = True)"
   ]
  },
  {
   "cell_type": "code",
   "execution_count": 31,
   "id": "7d576718",
   "metadata": {},
   "outputs": [
    {
     "data": {
      "text/plain": [
       "array(['All Levels', 'Intermediate Level', 'Beginner Level',\n",
       "       'Expert Level'], dtype=object)"
      ]
     },
     "execution_count": 31,
     "metadata": {},
     "output_type": "execute_result"
    }
   ],
   "source": [
    "car.level.unique()"
   ]
  },
  {
   "cell_type": "code",
   "execution_count": 35,
   "id": "549c58eb",
   "metadata": {},
   "outputs": [
    {
     "data": {
      "text/plain": [
       "count           3676\n",
       "unique             4\n",
       "top       All Levels\n",
       "freq            1928\n",
       "Name: level, dtype: object"
      ]
     },
     "execution_count": 35,
     "metadata": {},
     "output_type": "execute_result"
    }
   ],
   "source": [
    "car.level.describe()"
   ]
  },
  {
   "cell_type": "code",
   "execution_count": 63,
   "id": "a94d0e0a",
   "metadata": {},
   "outputs": [
    {
     "data": {
      "image/png": "[encoded data removed]",
      "text/plain": [
       "<Figure size 640x480 with 1 Axes>"
      ]
     },
     "metadata": {},
     "output_type": "display_data"
    }
   ],
   "source": [
    "plt.bar(x = car.level, height = car.price);"
   ]
  },
  {
   "cell_type": "code",
   "execution_count": 75,
   "id": "5c207bc5",
   "metadata": {},
   "outputs": [
    {
     "data": {
      "image/png": "[encoded data removed]",
      "text/plain": [
       "<Figure size 640x480 with 1 Axes>"
      ]
     },
     "metadata": {},
     "output_type": "display_data"
    }
   ],
   "source": [
    "data_pie = car.groupby('level')['level'].value_counts().plot(kind = 'pie', autopct = '%1.0f%%')"
   ]
  },
  {
   "cell_type": "code",
   "execution_count": 83,
   "id": "0e7ab2c8",
   "metadata": {},
   "outputs": [
    {
     "data": {
      "text/html": [
       "<div>\n",
       "<style scoped>\n",
       "    .dataframe tbody tr th:only-of-type {\n",
       "        vertical-align: middle;\n",
       "    }\n",
       "\n",
       "    .dataframe tbody tr th {\n",
       "        vertical-align: top;\n",
       "    }\n",
       "\n",
       "    .dataframe thead th {\n",
       "        text-align: right;\n",
       "    }\n",
       "</style>\n",
       "<table border=\"1\" class=\"dataframe\">\n",
       "  <thead>\n",
       "    <tr style=\"text-align: right;\">\n",
       "      <th></th>\n",
       "      <th>course_title</th>\n",
       "      <th>is_paid</th>\n",
       "      <th>price</th>\n",
       "      <th>num_subscribers</th>\n",
       "      <th>num_reviews</th>\n",
       "      <th>num_lectures</th>\n",
       "      <th>level</th>\n",
       "      <th>content_duration</th>\n",
       "      <th>published_timestamp</th>\n",
       "      <th>subject</th>\n",
       "    </tr>\n",
       "  </thead>\n",
       "  <tbody>\n",
       "    <tr>\n",
       "      <th>0</th>\n",
       "      <td>#1 Piano Hand Coordination: Play 10th Ballad i...</td>\n",
       "      <td>True</td>\n",
       "      <td>35</td>\n",
       "      <td>3137</td>\n",
       "      <td>18</td>\n",
       "      <td>68</td>\n",
       "      <td>All Levels</td>\n",
       "      <td>1.5 hours</td>\n",
       "      <td>2014-09-18T05:07:05Z</td>\n",
       "      <td>Musical Instruments</td>\n",
       "    </tr>\n",
       "    <tr>\n",
       "      <th>1</th>\n",
       "      <td>#10 Hand Coordination - Transfer Chord Ballad ...</td>\n",
       "      <td>True</td>\n",
       "      <td>75</td>\n",
       "      <td>1593</td>\n",
       "      <td>1</td>\n",
       "      <td>41</td>\n",
       "      <td>Intermediate Level</td>\n",
       "      <td>1 hour</td>\n",
       "      <td>2017-04-12T19:06:34Z</td>\n",
       "      <td>Musical Instruments</td>\n",
       "    </tr>\n",
       "    <tr>\n",
       "      <th>2</th>\n",
       "      <td>#12 Hand Coordination: Let your Hands dance wi...</td>\n",
       "      <td>True</td>\n",
       "      <td>75</td>\n",
       "      <td>482</td>\n",
       "      <td>1</td>\n",
       "      <td>47</td>\n",
       "      <td>Intermediate Level</td>\n",
       "      <td>1.5 hours</td>\n",
       "      <td>2017-04-26T18:34:57Z</td>\n",
       "      <td>Musical Instruments</td>\n",
       "    </tr>\n",
       "    <tr>\n",
       "      <th>3</th>\n",
       "      <td>#4 Piano Hand Coordination: Fun Piano Runs in ...</td>\n",
       "      <td>True</td>\n",
       "      <td>75</td>\n",
       "      <td>850</td>\n",
       "      <td>3</td>\n",
       "      <td>43</td>\n",
       "      <td>Intermediate Level</td>\n",
       "      <td>1 hour</td>\n",
       "      <td>2017-02-21T23:48:18Z</td>\n",
       "      <td>Musical Instruments</td>\n",
       "    </tr>\n",
       "    <tr>\n",
       "      <th>4</th>\n",
       "      <td>#5  Piano Hand Coordination:  Piano Runs in 2 ...</td>\n",
       "      <td>True</td>\n",
       "      <td>75</td>\n",
       "      <td>940</td>\n",
       "      <td>3</td>\n",
       "      <td>32</td>\n",
       "      <td>Intermediate Level</td>\n",
       "      <td>37 mins</td>\n",
       "      <td>2017-02-21T23:44:49Z</td>\n",
       "      <td>Musical Instruments</td>\n",
       "    </tr>\n",
       "  </tbody>\n",
       "</table>\n",
       "</div>"
      ],
      "text/plain": [
       "                                        course_title  is_paid price  \\\n",
       "0  #1 Piano Hand Coordination: Play 10th Ballad i...     True    35   \n",
       "1  #10 Hand Coordination - Transfer Chord Ballad ...     True    75   \n",
       "2  #12 Hand Coordination: Let your Hands dance wi...     True    75   \n",
       "3  #4 Piano Hand Coordination: Fun Piano Runs in ...     True    75   \n",
       "4  #5  Piano Hand Coordination:  Piano Runs in 2 ...     True    75   \n",
       "\n",
       "   num_subscribers  num_reviews  num_lectures               level  \\\n",
       "0             3137           18            68          All Levels   \n",
       "1             1593            1            41  Intermediate Level   \n",
       "2              482            1            47  Intermediate Level   \n",
       "3              850            3            43  Intermediate Level   \n",
       "4              940            3            32  Intermediate Level   \n",
       "\n",
       "  content_duration   published_timestamp              subject  \n",
       "0        1.5 hours  2014-09-18T05:07:05Z  Musical Instruments  \n",
       "1           1 hour  2017-04-12T19:06:34Z  Musical Instruments  \n",
       "2        1.5 hours  2017-04-26T18:34:57Z  Musical Instruments  \n",
       "3           1 hour  2017-02-21T23:48:18Z  Musical Instruments  \n",
       "4          37 mins  2017-02-21T23:44:49Z  Musical Instruments  "
      ]
     },
     "execution_count": 83,
     "metadata": {},
     "output_type": "execute_result"
    }
   ],
   "source": [
    "car.head(5)"
   ]
  },
  {
   "cell_type": "code",
   "execution_count": 112,
   "id": "67d21c99",
   "metadata": {},
   "outputs": [
    {
     "data": {
      "text/plain": [
       "Index([False, True], dtype='object', name='is_paid')"
      ]
     },
     "execution_count": 112,
     "metadata": {},
     "output_type": "execute_result"
    }
   ],
   "source": [
    "data_rr = car.groupby(['is_paid']).count()"
   ]
  },
  {
   "cell_type": "code",
   "execution_count": 114,
   "id": "09bbfdb1",
   "metadata": {},
   "outputs": [
    {
     "data": {
      "image/png": "[encoded data removed]",
      "text/plain": [
       "<Figure size 640x480 with 1 Axes>"
      ]
     },
     "metadata": {},
     "output_type": "display_data"
    }
   ],
   "source": [
    "plt.bar(x = data_rr.index, height = car.is_paid.value_counts());"
   ]
  },
  {
   "cell_type": "code",
   "execution_count": 116,
   "id": "d203aa1a",
   "metadata": {},
   "outputs": [
    {
     "data": {
      "text/plain": [
       "array(['Musical Instruments', 'Business Finance', 'Graphic Design',\n",
       "       'Web Development'], dtype=object)"
      ]
     },
     "execution_count": 116,
     "metadata": {},
     "output_type": "execute_result"
    }
   ],
   "source": [
    "car.subject.unique()"
   ]
  }
 ],
 "metadata": {
  "kernelspec": {
   "display_name": "Python 3 (ipykernel)",
   "language": "python",
   "name": "python3"
  },
  "language_info": {
   "codemirror_mode": {
    "name": "ipython",
    "version": 3
   },
   "file_extension": ".py",
   "mimetype": "text/x-python",
   "name": "python",
   "nbconvert_exporter": "python",
   "pygments_lexer": "ipython3",
   "version": "3.9.13"
  }
 },
 "nbformat": 4,
 "nbformat_minor": 5
}
