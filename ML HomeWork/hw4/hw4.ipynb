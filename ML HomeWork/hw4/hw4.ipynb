{
 "cells": [
  {
   "cell_type": "markdown",
   "metadata": {
    "id": "fA5wWLs4YrNR"
   },
   "source": [
    "# Applied Machine Learning \n",
    "\n",
    "## Homework 4: Logistic regression, hyperparameter optimization \n",
    "\n",
    "\n"
   ]
  },
  {
   "cell_type": "markdown",
   "metadata": {
    "id": "_wSdY3ZSYrNd"
   },
   "source": [
    "## Imports "
   ]
  },
  {
   "cell_type": "code",
   "execution_count": 1,
   "metadata": {
    "id": "dmGwJI_UYrNe"
   },
   "outputs": [],
   "source": [
    "import matplotlib.pyplot as plt\n",
    "import numpy as np\n",
    "import pandas as pd\n",
    "\n",
    "plt.rcParams[\"font.size\"] = 16\n",
    "\n",
    "from sklearn.dummy import DummyClassifier\n",
    "from sklearn.feature_extraction.text import CountVectorizer\n",
    "from sklearn.linear_model import LogisticRegression\n",
    "from sklearn.model_selection import (\n",
    "    GridSearchCV,\n",
    "    cross_val_score,\n",
    "    cross_validate,\n",
    "    train_test_split,\n",
    ")\n",
    "from sklearn.pipeline import Pipeline, make_pipeline\n",
    "from sklearn.tree import DecisionTreeClassifier"
   ]
  },
  {
   "cell_type": "markdown",
   "metadata": {
    "id": "wma2gLiiYrNg"
   },
   "source": [
    "## Instructions \n",
    "<hr>\n",
    "rubric={points:5}\n",
    "\n",
    "Follow the [homework submission instructions](https://github.com/UBC-CS/cpsc330/blob/master/docs/homework_instructions.md). \n",
    "\n",
    "**You may work with a partner on this homework and submit your assignment as a group.** Below are some instructions on working as a group.  \n",
    "- The maximum group size is 2. \n",
    "- Use group work as an opportunity to collaborate and learn new things from each other. \n",
    "- Be respectful to each other and make sure you understand all the concepts in the assignment well. \n",
    "- It's your responsibility to make sure that the assignment is submitted by one of the group members before the deadline. \n",
    "- You can find the instructions on how to do group submission on Gradescope [here](https://help.gradescope.com/article/m5qz2xsnjy-student-add-group-members).\n",
    "\n",
    "_Note: The assignments will get gradually more open-ended as we progress through the course. In many cases, there won't be a single correct solution. Sometimes you will have to make your own choices and your own decisions (for example, on what parameter values to use when they are not explicitly provided in the instructions). Use your own judgment in such cases and justify your choices, if necessary._"
   ]
  },
  {
   "cell_type": "markdown",
   "metadata": {
    "id": "I55tp2qsYrNh"
   },
   "source": [
    "<br><br><br><br>"
   ]
  },
  {
   "cell_type": "markdown",
   "metadata": {
    "id": "432U52LDYrNi"
   },
   "source": [
    "## Exercise 1: Implementing `DummyClassifier` \n",
    "<hr>\n",
    "rubric={points:25}\n",
    "\n",
    "In this course (unlike CPSC 340) you will generally **not** be asked to implement machine learning algorihtms (like logistic regression) from scratch. However, this exercise is an exception: you will implement the simplest possible classifier, `DummyClassifier`.\n",
    "\n",
    "As a reminder, `DummyClassifier` is meant as a baseline and is generally the worst possible \"model\" you could \"fit\" to a dataset. All it does is predict the most popular class in the training set. So if there are more 0s than 1s it predicts 0 every time, and if there are more 1s than 0s it predicts 1 every time. For `predict_proba` it looks at the frequencies in the training set, so if you have 30% 0's 70% 1's it predicts `[0.3 0.7]` every time. Thus, `fit` only looks at `y` (not `X`).\n",
    "\n",
    "Below you will find starter code for a class called `MyDummyClassifier`, which has methods `fit()`, `predict()`, `predict_proba()` and `score()`. Your task is to fill in those four functions. To get your started, I have given you a `return` statement in each case that returns the correct data type: `fit` can return nothing, `predict` returns an array whose size is the number of examples, `predict_proba` returns an array whose size is the number of examples x 2, and `score` returns a number.\n",
    "\n",
    "The next code block has some tests you can use to assess whether your code is working. \n",
    "\n",
    "I suggest starting with `fit` and `predict`, and making sure those are working before moving on to `predict_proba`. For `predict_proba`, you should return the frequency of each class in the training data, which is the behaviour of `DummyClassifier(strategy='prior')`. Your `score` function should call your `predict` function. Again, you can compare with `DummyClassifier` using the code below.\n",
    "\n",
    "To simplify this question, you can assume **binary classification**, and furthermore that these classes are **encoded as 0 and 1**. In other words, you can assume that `y` contains only 0s and 1s. The real `DummyClassifier` works when you have more than two classes, and also works if the target values are encoded differently, for example as \"cat\", \"dog\", \"mouse\", etc."
   ]
  },
  {
   "cell_type": "code",
   "execution_count": 2,
   "metadata": {
    "id": "BNDaKzkfYrNk"
   },
   "outputs": [],
   "source": [
    "class MyDummyClassifier:\n",
    "    \"\"\"\n",
    "    A baseline classifier that predicts the most common class.\n",
    "    The predicted probabilities come from the relative frequencies\n",
    "    of the classes in the training data.\n",
    "\n",
    "    This implementation only works when y only contains 0s and 1s.\n",
    "    \"\"\"\n",
    "\n",
    "    def fit(self, X, y):\n",
    "        dummyc = DummyClassifier(strategy=\"prior\")\n",
    "        dummy_fit = dummyc.fit(X, y)\n",
    "        return dummy_fit  # Replace with your code\n",
    "\n",
    "    def predict(self, X):\n",
    "        dummy_fit = self.fit(X_train_dummy, y_train_dummy)\n",
    "        return dummy_fit.predict(X)  # Replace with your code\n",
    "\n",
    "    def predict_proba(self, X):\n",
    "        dummy_fit = self.fit(X_train_dummy, y_train_dummy)\n",
    "        return dummy_fit.predict_proba(X)  # Replace with your code\n",
    "\n",
    "    def score(self, X, y):\n",
    "        dummy_fit = self.fit(X_train_dummy, y_train_dummy)\n",
    "        return dummy_fit.score(X, y)  # Replace with your code"
   ]
  },
  {
   "cell_type": "markdown",
   "metadata": {
    "id": "ujQ6MBTZYrNk"
   },
   "source": [
    "Below are some tests for `predict` using randomly generated data. You may want to run the cell a few times to make sure you explore the different cases (or automate this with a loop or random seeds)."
   ]
  },
  {
   "cell_type": "code",
   "execution_count": 3,
   "metadata": {
    "id": "e90LLle8YrNl"
   },
   "outputs": [],
   "source": [
    "# For testing, generate random data\n",
    "n_train = 101\n",
    "n_valid = 21\n",
    "d = 5\n",
    "X_train_dummy = np.random.randn(n_train, d)\n",
    "X_valid_dummy = np.random.randn(n_valid, d)\n",
    "y_train_dummy = np.random.randint(2, size=n_train)\n",
    "y_valid_dummy = np.random.randint(2, size=n_valid)\n",
    "\n",
    "my_dc = MyDummyClassifier()\n",
    "sk_dc = DummyClassifier(strategy=\"prior\")\n",
    "\n",
    "my_dc.fit(X_train_dummy, y_train_dummy)\n",
    "sk_dc.fit(X_train_dummy, y_train_dummy)\n",
    "\n",
    "assert np.array_equal(my_dc.predict(X_train_dummy), sk_dc.predict(X_train_dummy))\n",
    "assert np.array_equal(my_dc.predict(X_valid_dummy), sk_dc.predict(X_valid_dummy))"
   ]
  },
  {
   "cell_type": "markdown",
   "metadata": {
    "id": "TporcFoWYrNm"
   },
   "source": [
    "Below are some tests for `predict_proba`."
   ]
  },
  {
   "cell_type": "code",
   "execution_count": 4,
   "metadata": {
    "id": "ia39rfVpYrNm"
   },
   "outputs": [],
   "source": [
    "assert np.allclose(\n",
    "    my_dc.predict_proba(X_train_dummy), sk_dc.predict_proba(X_train_dummy)\n",
    ")\n",
    "assert np.allclose(\n",
    "    my_dc.predict_proba(X_valid_dummy), sk_dc.predict_proba(X_valid_dummy)\n",
    ")"
   ]
  },
  {
   "cell_type": "markdown",
   "metadata": {
    "id": "TaM_KREHYrNn"
   },
   "source": [
    "Below are some tests for `score`."
   ]
  },
  {
   "cell_type": "code",
   "execution_count": 5,
   "metadata": {
    "id": "oEP6dYvnYrNo"
   },
   "outputs": [],
   "source": [
    "assert np.isclose(\n",
    "    my_dc.score(X_train_dummy, y_train_dummy), sk_dc.score(X_train_dummy, y_train_dummy)\n",
    ")\n",
    "assert np.isclose(\n",
    "    my_dc.score(X_valid_dummy, y_valid_dummy), sk_dc.score(X_valid_dummy, y_valid_dummy)\n",
    ")"
   ]
  },
  {
   "cell_type": "markdown",
   "metadata": {
    "id": "U0GE7tlpYrNo"
   },
   "source": [
    "<br><br><br><br>"
   ]
  },
  {
   "cell_type": "markdown",
   "metadata": {
    "id": "5zEJ7fjWYrNo",
    "nbgrader": {
     "grade": false,
     "grade_id": "cell-8e3cc53df86a7e14",
     "locked": true,
     "schema_version": 3,
     "solution": false,
     "task": false
    },
    "toc-hr-collapsed": true
   },
   "source": [
    "## Exercise 2: Trump Tweets\n",
    "<hr>\n",
    "\n",
    "For the rest of this assignment we'll be looking at a [dataset of Donald Trump's tweets](https://www.kaggle.com/austinreese/trump-tweets) as of June 2020. You should start by downloading the dataset. Unzip it and move the file `realdonaldtrump.csv` into this directory. As usual, please do not submit the dataset when you submit the assignment. "
   ]
  },
  {
   "cell_type": "code",
   "execution_count": 6,
   "metadata": {
    "id": "G97JVtpeYrNp"
   },
   "outputs": [
    {
     "data": {
      "text/html": [
       "<div>\n",
       "<style scoped>\n",
       "    .dataframe tbody tr th:only-of-type {\n",
       "        vertical-align: middle;\n",
       "    }\n",
       "\n",
       "    .dataframe tbody tr th {\n",
       "        vertical-align: top;\n",
       "    }\n",
       "\n",
       "    .dataframe thead th {\n",
       "        text-align: right;\n",
       "    }\n",
       "</style>\n",
       "<table border=\"1\" class=\"dataframe\">\n",
       "  <thead>\n",
       "    <tr style=\"text-align: right;\">\n",
       "      <th></th>\n",
       "      <th>link</th>\n",
       "      <th>content</th>\n",
       "      <th>date</th>\n",
       "      <th>retweets</th>\n",
       "      <th>favorites</th>\n",
       "      <th>mentions</th>\n",
       "      <th>hashtags</th>\n",
       "    </tr>\n",
       "    <tr>\n",
       "      <th>id</th>\n",
       "      <th></th>\n",
       "      <th></th>\n",
       "      <th></th>\n",
       "      <th></th>\n",
       "      <th></th>\n",
       "      <th></th>\n",
       "      <th></th>\n",
       "    </tr>\n",
       "  </thead>\n",
       "  <tbody>\n",
       "    <tr>\n",
       "      <th>1698308935</th>\n",
       "      <td>https://twitter.com/realDonaldTrump/status/169...</td>\n",
       "      <td>Be sure to tune in and watch Donald Trump on L...</td>\n",
       "      <td>2009-05-04 13:54:25</td>\n",
       "      <td>510</td>\n",
       "      <td>917</td>\n",
       "      <td>NaN</td>\n",
       "      <td>NaN</td>\n",
       "    </tr>\n",
       "    <tr>\n",
       "      <th>1701461182</th>\n",
       "      <td>https://twitter.com/realDonaldTrump/status/170...</td>\n",
       "      <td>Donald Trump will be appearing on The View tom...</td>\n",
       "      <td>2009-05-04 20:00:10</td>\n",
       "      <td>34</td>\n",
       "      <td>267</td>\n",
       "      <td>NaN</td>\n",
       "      <td>NaN</td>\n",
       "    </tr>\n",
       "    <tr>\n",
       "      <th>1737479987</th>\n",
       "      <td>https://twitter.com/realDonaldTrump/status/173...</td>\n",
       "      <td>Donald Trump reads Top Ten Financial Tips on L...</td>\n",
       "      <td>2009-05-08 08:38:08</td>\n",
       "      <td>13</td>\n",
       "      <td>19</td>\n",
       "      <td>NaN</td>\n",
       "      <td>NaN</td>\n",
       "    </tr>\n",
       "    <tr>\n",
       "      <th>1741160716</th>\n",
       "      <td>https://twitter.com/realDonaldTrump/status/174...</td>\n",
       "      <td>New Blog Post: Celebrity Apprentice Finale and...</td>\n",
       "      <td>2009-05-08 15:40:15</td>\n",
       "      <td>11</td>\n",
       "      <td>26</td>\n",
       "      <td>NaN</td>\n",
       "      <td>NaN</td>\n",
       "    </tr>\n",
       "    <tr>\n",
       "      <th>1773561338</th>\n",
       "      <td>https://twitter.com/realDonaldTrump/status/177...</td>\n",
       "      <td>\"My persona will never be that of a wallflower...</td>\n",
       "      <td>2009-05-12 09:07:28</td>\n",
       "      <td>1375</td>\n",
       "      <td>1945</td>\n",
       "      <td>NaN</td>\n",
       "      <td>NaN</td>\n",
       "    </tr>\n",
       "  </tbody>\n",
       "</table>\n",
       "</div>"
      ],
      "text/plain": [
       "                                                         link  \\\n",
       "id                                                              \n",
       "1698308935  https://twitter.com/realDonaldTrump/status/169...   \n",
       "1701461182  https://twitter.com/realDonaldTrump/status/170...   \n",
       "1737479987  https://twitter.com/realDonaldTrump/status/173...   \n",
       "1741160716  https://twitter.com/realDonaldTrump/status/174...   \n",
       "1773561338  https://twitter.com/realDonaldTrump/status/177...   \n",
       "\n",
       "                                                      content  \\\n",
       "id                                                              \n",
       "1698308935  Be sure to tune in and watch Donald Trump on L...   \n",
       "1701461182  Donald Trump will be appearing on The View tom...   \n",
       "1737479987  Donald Trump reads Top Ten Financial Tips on L...   \n",
       "1741160716  New Blog Post: Celebrity Apprentice Finale and...   \n",
       "1773561338  \"My persona will never be that of a wallflower...   \n",
       "\n",
       "                           date  retweets  favorites mentions hashtags  \n",
       "id                                                                      \n",
       "1698308935  2009-05-04 13:54:25       510        917      NaN      NaN  \n",
       "1701461182  2009-05-04 20:00:10        34        267      NaN      NaN  \n",
       "1737479987  2009-05-08 08:38:08        13         19      NaN      NaN  \n",
       "1741160716  2009-05-08 15:40:15        11         26      NaN      NaN  \n",
       "1773561338  2009-05-12 09:07:28      1375       1945      NaN      NaN  "
      ]
     },
     "execution_count": 6,
     "metadata": {},
     "output_type": "execute_result"
    }
   ],
   "source": [
    "tweets_df = pd.read_csv(\"realdonaldtrump.csv\", index_col=0)\n",
    "tweets_df.head()"
   ]
  },
  {
   "cell_type": "code",
   "execution_count": 7,
   "metadata": {
    "id": "4bvCYDrCYrNp"
   },
   "outputs": [
    {
     "data": {
      "text/plain": [
       "(43352, 7)"
      ]
     },
     "execution_count": 7,
     "metadata": {},
     "output_type": "execute_result"
    }
   ],
   "source": [
    "tweets_df.shape"
   ]
  },
  {
   "cell_type": "markdown",
   "metadata": {
    "id": "0kkkJDzQYrNq"
   },
   "source": [
    "We will be trying to predict whether a tweet will go \"viral\", defined as having more than 10,000 retweets:"
   ]
  },
  {
   "cell_type": "code",
   "execution_count": 8,
   "metadata": {
    "id": "0oo3gLVmYrNr"
   },
   "outputs": [],
   "source": [
    "y = tweets_df[\"retweets\"] > 10_000"
   ]
  },
  {
   "cell_type": "markdown",
   "metadata": {
    "id": "-sO8bOnhYrNs"
   },
   "source": [
    "To make predictions, we'll be using only the content (text) of the tweet. "
   ]
  },
  {
   "cell_type": "code",
   "execution_count": 9,
   "metadata": {
    "id": "py-EbduaYrNs"
   },
   "outputs": [],
   "source": [
    "X = tweets_df[\"content\"]"
   ]
  },
  {
   "cell_type": "markdown",
   "metadata": {
    "id": "lO0lsy84YrNs"
   },
   "source": [
    "For the purpose of this assignment, you can ignore all the other columns in the original dataset."
   ]
  },
  {
   "cell_type": "markdown",
   "metadata": {
    "id": "4zCbm6vYYrNt"
   },
   "source": [
    "#### 2(a) ordering the steps\n",
    "rubric={points:8}"
   ]
  },
  {
   "cell_type": "markdown",
   "metadata": {
    "id": "2Nle26hNYrNt"
   },
   "source": [
    "Let's start by building a model using `CountVectorizer` and `LogisticRegression`. The code required to do this has been provided below, but in the wrong order. \n",
    "\n",
    "- Rearrange the lines of code to correctly fit the model and compute the cross-validation score. \n",
    "- Add a short comment to each block to describe what the code is doing."
   ]
  },
  {
   "cell_type": "code",
   "execution_count": 10,
   "metadata": {
    "id": "-BEq07JXYrNt",
    "tags": [
     "raises-exception"
    ]
   },
   "outputs": [
    {
     "data": {
      "text/plain": [
       "fit_time       1.561848\n",
       "score_time     0.128800\n",
       "test_score     0.897890\n",
       "train_score    0.967045\n",
       "dtype: float64"
      ]
     },
     "execution_count": 10,
     "metadata": {},
     "output_type": "execute_result"
    }
   ],
   "source": [
    "# spiliting Train and Test data\n",
    "X_train, X_test, y_train, y_test = train_test_split(X, y, random_state=321)\n",
    "\n",
    "# Implementing LogisticRegression \n",
    "lr = LogisticRegression(max_iter=1000)\n",
    "\n",
    "# Implememting CountVectorizer\n",
    "countvec = CountVectorizer(stop_words=\"english\")\n",
    "\n",
    "# making pipeline\n",
    "pipe = make_pipeline(countvec, lr)\n",
    "\n",
    "# cross validating the data\n",
    "cross_val_results = pd.DataFrame(\n",
    "    cross_validate(pipe, X_train, y_train, return_train_score=True)\n",
    ")\n",
    "\n",
    "# cross validate mean score\n",
    "cross_val_results.mean()"
   ]
  },
  {
   "cell_type": "markdown",
   "metadata": {
    "id": "GoWJaaJTYrNu"
   },
   "source": [
    "<br><br>"
   ]
  },
  {
   "cell_type": "markdown",
   "metadata": {
    "id": "5UcepQcXYrNu"
   },
   "source": [
    "#### 2(b) Cross-validation fold sub-scores\n",
    "rubric={points:5}\n",
    "\n",
    "Above we averaged the scores from the 5 folds of cross-validation. \n",
    "\n",
    "- Print out the 5 individual scores. Reminder: `sklearn` calls them `\"test_score\"` but they are really (cross-)validation scores. \n",
    "- Are the 5 scores close to each other or spread far apart? (This is a bit subjective, answer to the best of your ability.)\n",
    "- How does the size of this dataset (number of rows) compare to the cities dataset we have been using in class? How does this relate to the different sub-scores from the 5 folds?"
   ]
  },
  {
   "cell_type": "code",
   "execution_count": 11,
   "metadata": {},
   "outputs": [],
   "source": [
    "cross_val = cross_val_score(pipe, X_train, y_train, cv = 5)"
   ]
  },
  {
   "cell_type": "code",
   "execution_count": 12,
   "metadata": {},
   "outputs": [
    {
     "data": {
      "text/plain": [
       "array([0.89912348, 0.89973858, 0.89635553, 0.89820083, 0.89603199])"
      ]
     },
     "execution_count": 12,
     "metadata": {},
     "output_type": "execute_result"
    }
   ],
   "source": [
    "cross_val"
   ]
  },
  {
   "cell_type": "markdown",
   "metadata": {
    "id": "BeLuNaNiYrNu"
   },
   "source": []
  },
  {
   "cell_type": "markdown",
   "metadata": {
    "id": "qoa1TJjGYrNv"
   },
   "source": [
    "<br><br>"
   ]
  },
  {
   "cell_type": "markdown",
   "metadata": {
    "id": "rf5SOBuSYrNv"
   },
   "source": [
    "#### 2(c) baseline\n",
    "rubric={points:3}\n",
    "\n",
    "By the way, are these scores any good? \n",
    "\n",
    "- Run `DummyClassifier` (or `MyDummyClassifier`!) on this dataset.\n",
    "- Compare the `DummyClassifier` score to what you got from logistic regression above. Does logistic regression seem to be doing anything useful?\n",
    "- Is it necessary to use `CountVectorizer` here? Briefly explain."
   ]
  },
  {
   "cell_type": "markdown",
   "metadata": {
    "id": "r1rPtV1jYrNv"
   },
   "source": []
  },
  {
   "cell_type": "code",
   "execution_count": 13,
   "metadata": {},
   "outputs": [
    {
     "data": {
      "text/plain": [
       "0.7313157409116073"
      ]
     },
     "execution_count": 13,
     "metadata": {},
     "output_type": "execute_result"
    }
   ],
   "source": [
    "dummy = DummyClassifier()\n",
    "dummy.fit(X_train, y_train)\n",
    "dummy_score = dummy.score(X_test, y_test)\n",
    "dummy_score"
   ]
  },
  {
   "cell_type": "code",
   "execution_count": 14,
   "metadata": {},
   "outputs": [
    {
     "data": {
      "text/plain": [
       "0.9652457402964877"
      ]
     },
     "execution_count": 14,
     "metadata": {},
     "output_type": "execute_result"
    }
   ],
   "source": [
    "linear = LogisticRegression(max_iter=1000)\n",
    "countvec = CountVectorizer(stop_words=\"english\")\n",
    "pipe = make_pipeline(countvec, linear)\n",
    "\n",
    "pipe.fit(X_train, y_train)\n",
    "\n",
    "pipe.score(X_train, y_train)"
   ]
  },
  {
   "cell_type": "code",
   "execution_count": 15,
   "metadata": {},
   "outputs": [],
   "source": [
    "# linear = LogisticRegression(max_iter=1000)\n",
    "# pipe = make_pipeline(linear)\n",
    "# pipe.fit(X_train, y_train)\n",
    "# linear_score = pipe.score(X_train, y_train)\n",
    "# linear_score\n",
    "\n",
    "# CounterVectorizer is important as LogisticRegression could not convert string to float"
   ]
  },
  {
   "cell_type": "markdown",
   "metadata": {
    "id": "HH3IpZT9YrNv",
    "nbgrader": {
     "grade": false,
     "grade_id": "cell-ba1f8ea22638cf75",
     "locked": true,
     "schema_version": 3,
     "solution": false,
     "task": false
    }
   },
   "source": [
    "#### 2(d) probability scores\n",
    "rubric={points:5}\n",
    "\n",
    "Here we train a logistic regression classifier on the entire training set: \n",
    "\n",
    "(Note: this is relying on the `pipe` variable from 2(a) - you'll need to redefine it if you overwrote that variable in between.)"
   ]
  },
  {
   "cell_type": "code",
   "execution_count": 16,
   "metadata": {
    "id": "ZP1Xx2H5YrNw"
   },
   "outputs": [],
   "source": [
    "pipe.fit(X_train, y_train);"
   ]
  },
  {
   "cell_type": "markdown",
   "metadata": {
    "id": "YHZ4or-NYrNw"
   },
   "source": [
    "Using this model, find the tweet in the **test set** with the highest predicted probability of being viral. Print out the tweet and the associated probability score.\n",
    "\n",
    "Reminder: you are free to reuse/adapt code from lecture. Please add in a small attribution, e.g. \"From Lecture 7\"."
   ]
  },
  {
   "cell_type": "code",
   "execution_count": 17,
   "metadata": {},
   "outputs": [
    {
     "data": {
      "text/html": [
       "<div>\n",
       "<style scoped>\n",
       "    .dataframe tbody tr th:only-of-type {\n",
       "        vertical-align: middle;\n",
       "    }\n",
       "\n",
       "    .dataframe tbody tr th {\n",
       "        vertical-align: top;\n",
       "    }\n",
       "\n",
       "    .dataframe thead th {\n",
       "        text-align: right;\n",
       "    }\n",
       "</style>\n",
       "<table border=\"1\" class=\"dataframe\">\n",
       "  <thead>\n",
       "    <tr style=\"text-align: right;\">\n",
       "      <th></th>\n",
       "      <th>id</th>\n",
       "      <th>content</th>\n",
       "      <th>vir_score</th>\n",
       "    </tr>\n",
       "  </thead>\n",
       "  <tbody>\n",
       "    <tr>\n",
       "      <th>5134</th>\n",
       "      <td>1193603788898263041</td>\n",
       "      <td>Corrupt politician Adam Schiff wants people fr...</td>\n",
       "      <td>9.999999e-01</td>\n",
       "    </tr>\n",
       "    <tr>\n",
       "      <th>3070</th>\n",
       "      <td>1178446179320942593</td>\n",
       "      <td>These Radical Left, Do Nothing Democrats, are ...</td>\n",
       "      <td>9.999997e-01</td>\n",
       "    </tr>\n",
       "    <tr>\n",
       "      <th>8625</th>\n",
       "      <td>1169981019228913664</td>\n",
       "      <td>....This nonsense has never happened to anothe...</td>\n",
       "      <td>9.999994e-01</td>\n",
       "    </tr>\n",
       "    <tr>\n",
       "      <th>8695</th>\n",
       "      <td>1269761532033937412</td>\n",
       "      <td>If I wasn’t constantly harassed for three year...</td>\n",
       "      <td>9.999994e-01</td>\n",
       "    </tr>\n",
       "    <tr>\n",
       "      <th>1534</th>\n",
       "      <td>1114888062884954114</td>\n",
       "      <td>Looks like Bob Mueller’s team of 13 Trump Hate...</td>\n",
       "      <td>9.999988e-01</td>\n",
       "    </tr>\n",
       "    <tr>\n",
       "      <th>...</th>\n",
       "      <td>...</td>\n",
       "      <td>...</td>\n",
       "      <td>...</td>\n",
       "    </tr>\n",
       "    <tr>\n",
       "      <th>10433</th>\n",
       "      <td>523206147298562048</td>\n",
       "      <td>Via @ DailyCaller by @ AlexPappas: “Donald Tru...</td>\n",
       "      <td>3.675607e-07</td>\n",
       "    </tr>\n",
       "    <tr>\n",
       "      <th>9973</th>\n",
       "      <td>544594336412086272</td>\n",
       "      <td>Via @ TVGrapevine: “ @ ApprenticeNBC: Premiere...</td>\n",
       "      <td>3.128320e-07</td>\n",
       "    </tr>\n",
       "    <tr>\n",
       "      <th>6365</th>\n",
       "      <td>559418862975074305</td>\n",
       "      <td>Via @ NYDailyNews by Rich Schapiro: \"Donald Tr...</td>\n",
       "      <td>1.905989e-07</td>\n",
       "    </tr>\n",
       "    <tr>\n",
       "      <th>3307</th>\n",
       "      <td>509764209446752256</td>\n",
       "      <td>“ @ ApprenticeNBC: Donald Trump Talks Joan Riv...</td>\n",
       "      <td>8.720862e-08</td>\n",
       "    </tr>\n",
       "    <tr>\n",
       "      <th>5620</th>\n",
       "      <td>656553742859374592</td>\n",
       "      <td>Lots of great new polls--big leads! http://www...</td>\n",
       "      <td>1.022202e-09</td>\n",
       "    </tr>\n",
       "  </tbody>\n",
       "</table>\n",
       "<p>10838 rows × 3 columns</p>\n",
       "</div>"
      ],
      "text/plain": [
       "                        id                                            content  \\\n",
       "5134   1193603788898263041  Corrupt politician Adam Schiff wants people fr...   \n",
       "3070   1178446179320942593  These Radical Left, Do Nothing Democrats, are ...   \n",
       "8625   1169981019228913664  ....This nonsense has never happened to anothe...   \n",
       "8695   1269761532033937412  If I wasn’t constantly harassed for three year...   \n",
       "1534   1114888062884954114  Looks like Bob Mueller’s team of 13 Trump Hate...   \n",
       "...                    ...                                                ...   \n",
       "10433   523206147298562048  Via @ DailyCaller by @ AlexPappas: “Donald Tru...   \n",
       "9973    544594336412086272  Via @ TVGrapevine: “ @ ApprenticeNBC: Premiere...   \n",
       "6365    559418862975074305  Via @ NYDailyNews by Rich Schapiro: \"Donald Tr...   \n",
       "3307    509764209446752256  “ @ ApprenticeNBC: Donald Trump Talks Joan Riv...   \n",
       "5620    656553742859374592  Lots of great new polls--big leads! http://www...   \n",
       "\n",
       "          vir_score  \n",
       "5134   9.999999e-01  \n",
       "3070   9.999997e-01  \n",
       "8625   9.999994e-01  \n",
       "8695   9.999994e-01  \n",
       "1534   9.999988e-01  \n",
       "...             ...  \n",
       "10433  3.675607e-07  \n",
       "9973   3.128320e-07  \n",
       "6365   1.905989e-07  \n",
       "3307   8.720862e-08  \n",
       "5620   1.022202e-09  \n",
       "\n",
       "[10838 rows x 3 columns]"
      ]
     },
     "execution_count": 17,
     "metadata": {},
     "output_type": "execute_result"
    }
   ],
   "source": [
    "vir_score = pipe.predict_proba(X_test)[:,1]\n",
    "X_test_dup = X_test.reset_index()\n",
    "X_test_dup['vir_score'] = vir_score \n",
    "X_test_dup.sort_values(by = 'vir_score', ascending = False)"
   ]
  },
  {
   "cell_type": "markdown",
   "metadata": {
    "id": "ROj-OXpxYrNw"
   },
   "source": []
  },
  {
   "cell_type": "markdown",
   "metadata": {
    "id": "JbhJH2qtYrNw"
   },
   "source": [
    "<br><br>"
   ]
  },
  {
   "cell_type": "markdown",
   "metadata": {
    "id": "HhWWLEgnYrNx",
    "nbgrader": {
     "grade": false,
     "grade_id": "cell-f910e9d1d6d09182",
     "locked": true,
     "schema_version": 3,
     "solution": false,
     "task": false
    }
   },
   "source": [
    "#### 2(e) coefficients\n",
    "rubric={points:4}\n",
    "\n",
    "We can extract the `CountVectorizer` and `LogisticRegression` objects from the `make_pipeline` object as follows:\n"
   ]
  },
  {
   "cell_type": "code",
   "execution_count": 18,
   "metadata": {
    "id": "jYeFDvadYrNx"
   },
   "outputs": [
    {
     "data": {
      "text/plain": [
       "Pipeline(steps=[('countvectorizer', CountVectorizer(stop_words='english')),\n",
       "                ('logisticregression', LogisticRegression(max_iter=1000))])"
      ]
     },
     "execution_count": 18,
     "metadata": {},
     "output_type": "execute_result"
    }
   ],
   "source": [
    "vec_from_pipe = pipe.named_steps[\"countvectorizer\"]\n",
    "lr_from_pipe = pipe.named_steps[\"logisticregression\"]\n",
    "pipe.fit(X_train, y_train)"
   ]
  },
  {
   "cell_type": "code",
   "execution_count": 19,
   "metadata": {},
   "outputs": [
    {
     "name": "stderr",
     "output_type": "stream",
     "text": [
      "C:\\Users\\ADMIN\\anaconda3\\lib\\site-packages\\sklearn\\utils\\deprecation.py:87: FutureWarning: Function get_feature_names is deprecated; get_feature_names is deprecated in 1.0 and will be removed in 1.2. Please use get_feature_names_out instead.\n",
      "  warnings.warn(msg, category=FutureWarning)\n"
     ]
    },
    {
     "data": {
      "text/plain": [
       "['00',\n",
       " '000',\n",
       " '0002',\n",
       " '00021',\n",
       " '00022',\n",
       " '000hermansjr000',\n",
       " '000th',\n",
       " '000this',\n",
       " '005',\n",
       " '0062343971',\n",
       " '007cigarjoe',\n",
       " '007llisav',\n",
       " '0098a264184d',\n",
       " '00am',\n",
       " '00gnh9nlet',\n",
       " '00hol0to0u',\n",
       " '00mao6vk7r',\n",
       " '00p',\n",
       " '00pm',\n",
       " '00pme',\n",
       " '00pmest',\n",
       " '00rstw00',\n",
       " '00ykww_bq2i',\n",
       " '01',\n",
       " '01101o10',\n",
       " '01am',\n",
       " '02',\n",
       " '020215',\n",
       " '0207',\n",
       " '022pjwhhjs',\n",
       " '03',\n",
       " '032',\n",
       " '0324760ca856_story',\n",
       " '036',\n",
       " '03d039e997c2',\n",
       " '03ddyvu6ha',\n",
       " '03uzbgcswb',\n",
       " '04',\n",
       " '040',\n",
       " '040715_trumpferrypoint',\n",
       " '041ccb32',\n",
       " '044xgnylth',\n",
       " '04qqpgylt7',\n",
       " '05',\n",
       " '050urjw3ay',\n",
       " '05ce',\n",
       " '05fxdli',\n",
       " '05xrx2odxn',\n",
       " '06',\n",
       " '0624152016iranweb',\n",
       " '062clmcqan',\n",
       " '065ba39beb30',\n",
       " '067',\n",
       " '06wj5cdqjee',\n",
       " '07',\n",
       " '071',\n",
       " '07_aoamhqe',\n",
       " '08',\n",
       " '081',\n",
       " '0822',\n",
       " '08fmnhytac',\n",
       " '08xkebd8be',\n",
       " '09',\n",
       " '0900',\n",
       " '0930',\n",
       " '09a7998e75f145e',\n",
       " '09bac03rx6',\n",
       " '0a25gapyj6',\n",
       " '0a7apd4kuo',\n",
       " '0angxb2bri',\n",
       " '0auxm3mkpr',\n",
       " '0bama',\n",
       " '0bstlvq7v9',\n",
       " '0c004f23943c33b9',\n",
       " '0cdd44c0b576',\n",
       " '0cidcuofeo',\n",
       " '0dhgkdghrn',\n",
       " '0dtxsagkz1',\n",
       " '0ei3edqdxb',\n",
       " '0evxj7ww6c',\n",
       " '0f9f9c80f13f',\n",
       " '0fbis3',\n",
       " '0ftv64flypcg0p4pnxauuoxlacsaqv',\n",
       " '0g9fz',\n",
       " '0gj8tira5y',\n",
       " '0gwmhgz56k58_gydaco3tnkq',\n",
       " '0jcjfbcpjz',\n",
       " '0ksfxiokdg',\n",
       " '0lcn8awguw',\n",
       " '0luzczl29d',\n",
       " '0lw2',\n",
       " '0mdeymze3ndf8mxlvs01eqmfnymx4uxtau1dfdbs2hr83rlldpoot9n_c3w',\n",
       " '0n4aeorwk9',\n",
       " '0ngiihgy18',\n",
       " '0nlypablo',\n",
       " '0nokuuvuuv',\n",
       " '0nonsense',\n",
       " '0nqlzbwufo',\n",
       " '0ouupojeq4',\n",
       " '0psrxmxshu',\n",
       " '0pvuuvf2vy',\n",
       " '0qusxersql',\n",
       " '0r81wgq4ba',\n",
       " '0rhkz5ct',\n",
       " '0uct0qvyo6',\n",
       " '0unicornchris0',\n",
       " '0vjzleehtl',\n",
       " '0xbloood',\n",
       " '0yxynumyxj',\n",
       " '0zx9wr3mop',\n",
       " '10',\n",
       " '100',\n",
       " '1000',\n",
       " '10000',\n",
       " '1000060619108712449',\n",
       " '10000th',\n",
       " '1000m',\n",
       " '1001',\n",
       " '100114',\n",
       " '10022',\n",
       " '1002760314734170113',\n",
       " '100381628',\n",
       " '100614',\n",
       " '1007745343306584064',\n",
       " '1009438008733569025',\n",
       " '100b',\n",
       " '100beachbumapp',\n",
       " '100g',\n",
       " '100k',\n",
       " '100m',\n",
       " '100th',\n",
       " '100x',\n",
       " '100yrs',\n",
       " '101',\n",
       " '1010500676269404166',\n",
       " '1010winsnewyork',\n",
       " '101102',\n",
       " '1011253664961433600',\n",
       " '1012041519866531841',\n",
       " '10129948',\n",
       " '101414',\n",
       " '1015244162315309057',\n",
       " '10154473297477835',\n",
       " '10154879521400725',\n",
       " '10156034501145725',\n",
       " '10156376798595725',\n",
       " '10156377233170725',\n",
       " '10156387656245725',\n",
       " '10156395027595725',\n",
       " '10156396313845725',\n",
       " '10156398335585725',\n",
       " '10156401840540725',\n",
       " '10156402109300725',\n",
       " '10156403206355725',\n",
       " '10156403687515725',\n",
       " '10156405353795725',\n",
       " '10156406326945725',\n",
       " '10156407894785725',\n",
       " '10156412088210725',\n",
       " '10156412511925725',\n",
       " '10156412899695725',\n",
       " '10156414357265725',\n",
       " '10156414635755725',\n",
       " '10156417157260725',\n",
       " '10156417390615725',\n",
       " '10156425109365725',\n",
       " '10156427445680725',\n",
       " '10156436262810725',\n",
       " '10156440107765725',\n",
       " '10156442220085725',\n",
       " '10156443020965725',\n",
       " '10156444812435725',\n",
       " '10156445430005725',\n",
       " '10156453684740725',\n",
       " '10156460622260725',\n",
       " '10156462054585725',\n",
       " '10156467989725725',\n",
       " '10156473232605725',\n",
       " '10156475262795725',\n",
       " '10156475870665725',\n",
       " '10156478841470725',\n",
       " '10156479246710725',\n",
       " '10156480193140725',\n",
       " '10156500910690725',\n",
       " '10156502334810725',\n",
       " '10156529697320725',\n",
       " '10156540847600725',\n",
       " '10156544702880725',\n",
       " '10156546300015725',\n",
       " '10156548303850725',\n",
       " '10156549336385725',\n",
       " '10156549868870725',\n",
       " '10156552826965725',\n",
       " '10156553066190725',\n",
       " '10156556845290725',\n",
       " '10156559989840725',\n",
       " '10156563262030725',\n",
       " '10156563265515725',\n",
       " '10156570856100725',\n",
       " '10156574346040725',\n",
       " '10156578006175725',\n",
       " '10156581958480725',\n",
       " '10156583139705725',\n",
       " '10156583412010725',\n",
       " '10156584028145725',\n",
       " '10156584214900725',\n",
       " '10156585686910725',\n",
       " '10156591076765725',\n",
       " '10156599412210725',\n",
       " '10156602612915725',\n",
       " '10156604838290725',\n",
       " '10156608890980725',\n",
       " '10156610923070725',\n",
       " '10156616498145725',\n",
       " '10156620333635725',\n",
       " '10156623696310725',\n",
       " '10156626180645725',\n",
       " '10156638082135725',\n",
       " '10156642768615725',\n",
       " '10156650738555725',\n",
       " '10156655304665725',\n",
       " '10156655608040725',\n",
       " '10156658168535725',\n",
       " '10156659139295725',\n",
       " '10156671493865725',\n",
       " '10156674068880725',\n",
       " '10156676695120725',\n",
       " '10156679258630725',\n",
       " '10156680424255725',\n",
       " '10156681405075725',\n",
       " '10156683134825725',\n",
       " '10156687171790725',\n",
       " '10156689716915725',\n",
       " '10156691124655725',\n",
       " '10156696078600725',\n",
       " '10156699096370725',\n",
       " '10156699675010725',\n",
       " '10156700735560725',\n",
       " '10156703438065725',\n",
       " '10156706347280725',\n",
       " '10156710114610725',\n",
       " '10156710122455725',\n",
       " '10156711173905725',\n",
       " '10156714551570725',\n",
       " '10156715088630725',\n",
       " '10156717396415725',\n",
       " '10156717964125725',\n",
       " '10156724047250725',\n",
       " '10156730921700725',\n",
       " '10156744558065725',\n",
       " '10156748929285725',\n",
       " '10156808566585725',\n",
       " '10156861405690725',\n",
       " '10156862675620725',\n",
       " '10156866194350725',\n",
       " '10156881962720725',\n",
       " '10156883852800725',\n",
       " '10156887510055725',\n",
       " '10156940562995725',\n",
       " '10156952559355725',\n",
       " '10156977481470725',\n",
       " '10156999573740725',\n",
       " '10157017995990725',\n",
       " '10157139281305725',\n",
       " '10157139363145725',\n",
       " '10157139384175725',\n",
       " '10157139440985725',\n",
       " '10157164046265725',\n",
       " '10157164117925725',\n",
       " '10157164318560725',\n",
       " '10157164335365725',\n",
       " '10157169523180725',\n",
       " '10157185637660725',\n",
       " '10157210293405725',\n",
       " '10157213077740725',\n",
       " '10157219372685725',\n",
       " '10157225458500725',\n",
       " '10157246984980725',\n",
       " '10157254332085725',\n",
       " '10157263351880725',\n",
       " '10157277205810725',\n",
       " '10157280014500725',\n",
       " '10157283903165725',\n",
       " '10157294436575725',\n",
       " '10157298677315725',\n",
       " '10157329790520725',\n",
       " '10157337060605725',\n",
       " '10157368945620725',\n",
       " '10157369699375725',\n",
       " '10157370239030725',\n",
       " '10157370422355725',\n",
       " '10157382674030725',\n",
       " '10157388173350725',\n",
       " '10157391232965725',\n",
       " '10157391345450725',\n",
       " '10157422221965725',\n",
       " '10157449657485725',\n",
       " '10157458402275725',\n",
       " '10157472447805725',\n",
       " '10157509540605725',\n",
       " '10157522097930725',\n",
       " '10157542172590725',\n",
       " '10157608417635725',\n",
       " '10157627283230725',\n",
       " '10157690605840725',\n",
       " '10157759149590725',\n",
       " '10157785229045725',\n",
       " '10157791494485725',\n",
       " '10157856656835725',\n",
       " '10157884961280725',\n",
       " '10157932697660725',\n",
       " '10157934436595725',\n",
       " '10157937570415725',\n",
       " '10157946929405725',\n",
       " '10157952895095725',\n",
       " '10157958946770725',\n",
       " '10157973074675725',\n",
       " '10157980288935725',\n",
       " '10157984269835725',\n",
       " '10157990081530725',\n",
       " '10157990104410725',\n",
       " '10157991657715725',\n",
       " '10157991985830725',\n",
       " '10158015875825725',\n",
       " '10158017552765725',\n",
       " '10158018669815725',\n",
       " '10158023562820725',\n",
       " '10158050611675725',\n",
       " '10158057072840725',\n",
       " '10158062116155725',\n",
       " '10158066779845725',\n",
       " '10158071461455725',\n",
       " '10158072146545725',\n",
       " '10158074771180725',\n",
       " '10158078712110725',\n",
       " '10158079260770725',\n",
       " '10158080188865725',\n",
       " '10158081600190725',\n",
       " '10158207891610725',\n",
       " '10158231301535725',\n",
       " '10158244280375725',\n",
       " '10158266355460725',\n",
       " '10158305240145725',\n",
       " '10158310632295725',\n",
       " '10158338539250725',\n",
       " '10158426170160725',\n",
       " '10158443103370725',\n",
       " '10158510987625725',\n",
       " '10158635419120725',\n",
       " '10158646970740725',\n",
       " '10158684611165725',\n",
       " '10159027593260725',\n",
       " '10159677763575725',\n",
       " '10159704959520725',\n",
       " '10159709733805725',\n",
       " '10159801166360725',\n",
       " '10160226151710725',\n",
       " '10162491434245725',\n",
       " '1016306232104275968',\n",
       " '1017288317342224384',\n",
       " '1018202558764945408',\n",
       " '1018am',\n",
       " '102',\n",
       " '1020144866012073991',\n",
       " '10206020703413100',\n",
       " '1021536193710907423',\n",
       " '1022291789678628864',\n",
       " '1022699584987049990',\n",
       " '1024',\n",
       " '1024th',\n",
       " '1025064933736759298',\n",
       " '1025471369599901696',\n",
       " '1025743163661594624',\n",
       " '1028816390663426048',\n",
       " '1029',\n",
       " '102nd',\n",
       " '103',\n",
       " '103015',\n",
       " '1033058964651618304',\n",
       " '1033116113704505344',\n",
       " '1034128472946434056',\n",
       " '1036690580531757063',\n",
       " '1037002996436148230',\n",
       " '1037107325771948032',\n",
       " '1037740482988834821',\n",
       " '1037am',\n",
       " '1039921383944413184',\n",
       " '1040235446876467201',\n",
       " '1040631845145194498',\n",
       " '1040702223901241344',\n",
       " '1041632865853890560',\n",
       " '1044604674253508609',\n",
       " '1044szl',\n",
       " '1045820275831402496',\n",
       " '1047112237612183552',\n",
       " '1047286083766112256',\n",
       " '1047615925078425600',\n",
       " '1049376840975101953',\n",
       " '105',\n",
       " '1050132146373967892',\n",
       " '1050164476916523008',\n",
       " '1050900270979403776',\n",
       " '1051523821642113025',\n",
       " '1052174007708147714',\n",
       " '1052589131732267009',\n",
       " '1052984302357508096',\n",
       " '1053448472156749824',\n",
       " '1054296304619343872',\n",
       " '105445',\n",
       " '1055115436361166849',\n",
       " '1055636472144035840',\n",
       " '1055875113839747072',\n",
       " '1055984678648406016',\n",
       " '1055986341211791360',\n",
       " '1056315102327201793',\n",
       " '1058049612924313601',\n",
       " '1058155499202510849',\n",
       " '1059138871039008769',\n",
       " '1059224573957283842',\n",
       " '1063561072731279360',\n",
       " '1064200005584588800',\n",
       " '106yocl',\n",
       " '107',\n",
       " '1073210372541243392',\n",
       " '1079824312708808710',\n",
       " '107m',\n",
       " '108',\n",
       " '1083440238075236353',\n",
       " '1084216851968577536',\n",
       " '1084835531572301829',\n",
       " '10861328',\n",
       " '1086461107244490752',\n",
       " '1086761493503258624',\n",
       " '1087043502670790656',\n",
       " '1088137453268013057',\n",
       " '1088vjf',\n",
       " '108su8n',\n",
       " '1091025377932263427',\n",
       " '1091397656600039425',\n",
       " '1093650615912316928',\n",
       " '1096122681215324168',\n",
       " '109676',\n",
       " '1098295228837048325',\n",
       " '1098748506364203008',\n",
       " '1098954942843211777',\n",
       " '1099247495756996610',\n",
       " '1099419400686321664',\n",
       " '109b',\n",
       " '10a',\n",
       " '10ajmccarron',\n",
       " '10am',\n",
       " '10b',\n",
       " '10b8mm6',\n",
       " '10best',\n",
       " '10downingstreet',\n",
       " '10drvnp',\n",
       " '10dufdm',\n",
       " '10fegys',\n",
       " '10htqii',\n",
       " '10ibnhq',\n",
       " '10inchpolitics',\n",
       " '10k',\n",
       " '10m',\n",
       " '10m1xq4',\n",
       " '10m42s',\n",
       " '10pe',\n",
       " '10pm',\n",
       " '10pme',\n",
       " '10s',\n",
       " '10t',\n",
       " '10th',\n",
       " '10viboi',\n",
       " '10x',\n",
       " '10yo',\n",
       " '11',\n",
       " '110',\n",
       " '1100526297653174274',\n",
       " '1102625638245122048',\n",
       " '1103028675904196613',\n",
       " '1103065871830974465',\n",
       " '1104174354068267013',\n",
       " '1105887640879022080',\n",
       " '1106172145615425538',\n",
       " '1106209135144693760',\n",
       " '1107698956295983105',\n",
       " '1107985087029743617',\n",
       " '1111734163193954305',\n",
       " '1112',\n",
       " '11123018',\n",
       " '11132014',\n",
       " '1113911369978531846',\n",
       " '1114158362571284480',\n",
       " '1114510868027338752',\n",
       " '1115045592911228929',\n",
       " '1116145996743024646',\n",
       " '1116712395844587521',\n",
       " '1119039985431113728',\n",
       " '11192014',\n",
       " '1119228575134015489',\n",
       " '1120434609131532288',\n",
       " '1120702516814123020',\n",
       " '1121110722749112321',\n",
       " '1122844935391252480',\n",
       " '1123939623355518976',\n",
       " '1124841210684813315',\n",
       " '1125006755191246849',\n",
       " '1126593428769378304',\n",
       " '1126625647214964737',\n",
       " '1127561555204349952',\n",
       " '1128637699399868416',\n",
       " '1129713937795076096',\n",
       " '1129822219432071169',\n",
       " '112ci6f',\n",
       " '113',\n",
       " '1130248534169669635',\n",
       " '1130796877803380736',\n",
       " '1130917649326714881',\n",
       " '1131520800014688256',\n",
       " '1131533400798576642',\n",
       " '1131638682027536386',\n",
       " '1132603704689881089',\n",
       " '1132727099930927106',\n",
       " '1132829029197680640',\n",
       " '1133166058515324928',\n",
       " '1133381610915737601',\n",
       " '1134290731793731585',\n",
       " '1134864448869601280',\n",
       " '1138073752162451456',\n",
       " '1138702953194360832',\n",
       " '1138837483653935106',\n",
       " '1138870147907821568',\n",
       " '1139620339355459584',\n",
       " '1139673718039486467',\n",
       " '1139968121475928070',\n",
       " '114',\n",
       " '1140284207673090048',\n",
       " '1140301007840337921',\n",
       " '1140711955252072448',\n",
       " '1141314465188720640',\n",
       " '1143605160989646849',\n",
       " '1143711081531150341',\n",
       " '1144195875654082561',\n",
       " '11442513',\n",
       " '1145',\n",
       " '1145932',\n",
       " '1146187842772766720',\n",
       " '1146552901843578881',\n",
       " '1146917860289208320',\n",
       " '1146918559123218432',\n",
       " '1146923374960107521',\n",
       " '1146946992783994880',\n",
       " '1147165752262311937',\n",
       " '1147215397285978114',\n",
       " '1147221107696709632',\n",
       " '1147423573293830146',\n",
       " '1147481471537430528',\n",
       " '1147694118027612160',\n",
       " '1148636946677358592',\n",
       " '1148962923672494083',\n",
       " '1149350510484475905',\n",
       " '1149478513436573700',\n",
       " '1149505573206937601',\n",
       " '1149669878430744576',\n",
       " '1149738639938732034',\n",
       " '1149883648373477378',\n",
       " '115',\n",
       " '1150056924488052736',\n",
       " '1150153250806685697',\n",
       " '1150453619323363328',\n",
       " '1151468',\n",
       " '1151496',\n",
       " '1152198603240280064',\n",
       " '1152228353040011264',\n",
       " '1154066705284390912',\n",
       " '11550188935',\n",
       " '1155253573959028737',\n",
       " '11553555444',\n",
       " '1155863580136357888',\n",
       " '1155908683349594112',\n",
       " '11564529382',\n",
       " '1156542139460935680',\n",
       " '1156664456849625088',\n",
       " '1157470788758507521',\n",
       " '11586819335',\n",
       " '1159086721591496706',\n",
       " '1159870945630117888',\n",
       " '115gcyg',\n",
       " '116',\n",
       " '1160233516535373825',\n",
       " '1160360266787414017',\n",
       " '1161049221123862528',\n",
       " '1161081413120090113',\n",
       " '1161105208317026309',\n",
       " '1161227143621173248',\n",
       " '1161246021650804737',\n",
       " '1161281498743496704',\n",
       " '1161297400201383937',\n",
       " '1161680797209939968',\n",
       " '1161726809609789442',\n",
       " '1161774305895694336',\n",
       " '1161827348276080641',\n",
       " '1162041355889254400',\n",
       " '1162043613360115713',\n",
       " '1162167406762106881',\n",
       " '1162171796709265408',\n",
       " '1162175486560280577',\n",
       " '1162195296924946433',\n",
       " '1162706070378336257',\n",
       " '1162844956190552065',\n",
       " '1163120378543316992',\n",
       " '1163137145218973696',\n",
       " '1163425829331841024',\n",
       " '1163449741398683649',\n",
       " '1163455592566001665',\n",
       " '1163499292931366913',\n",
       " '1163518397511917568',\n",
       " '1163520717192867840',\n",
       " '1163521046055665664',\n",
       " '1163562360403087373',\n",
       " '1163605746656919552',\n",
       " '1163658628768907265',\n",
       " '1163661278549876736',\n",
       " '1164133869697798144',\n",
       " '1164589842753130496',\n",
       " '1164648591769645056',\n",
       " '1164794',\n",
       " '1164917801947000837',\n",
       " '1164944146534195200',\n",
       " '1165015853324222464',\n",
       " '1165023765476118528',\n",
       " '1165046821275807751',\n",
       " '1165071131608571904',\n",
       " '1165526646448951297',\n",
       " '1165658850286026752',\n",
       " '1165663968591044608',\n",
       " '1165665696250040320',\n",
       " '1165727440280457218',\n",
       " '1166004124627996672',\n",
       " '1166056804276756480',\n",
       " '1166134524952096779',\n",
       " '1166291203022868480',\n",
       " '1166466886558769152',\n",
       " '1166478831747772416',\n",
       " '1166771355653758976',\n",
       " '1166792741445079041',\n",
       " '1167135580372774912',\n",
       " '1167439608638038018',\n",
       " '1167508617857290240',\n",
       " '1167550058411253761',\n",
       " '1167552549974675458',\n",
       " '1167581903542767616',\n",
       " '1167606379097538563',\n",
       " '1169295369609592832',\n",
       " '116qmnr',\n",
       " '1170097018901020673',\n",
       " '1171181065945460736',\n",
       " '1171254828456194049',\n",
       " '1172127718433054721',\n",
       " '1172515960336654336',\n",
       " '1172609171382001665',\n",
       " '1172873180282871808',\n",
       " '1172911375783534594',\n",
       " '1172964660708032512',\n",
       " '1174017425068576769',\n",
       " '1174027975261474817',\n",
       " '1174073517865934849',\n",
       " '11746',\n",
       " '1175364800655740930',\n",
       " '1175766383180648453',\n",
       " '1175804667961511937',\n",
       " '1175807072870420481',\n",
       " '1176',\n",
       " '1176295193877856256',\n",
       " '1176667137831837696',\n",
       " '1176686526006276097',\n",
       " '1176687762768048128',\n",
       " '1176833811625185280',\n",
       " '1176854652823973893',\n",
       " '1176880040761614339',\n",
       " '1177259032412921859',\n",
       " '1177630118577090565',\n",
       " '1177669563477118976',\n",
       " '1177687361808932865',\n",
       " '1177764802363641856',\n",
       " '1177817225937313792',\n",
       " '1178827504301363205',\n",
       " '1179386288748802049',\n",
       " '1179552453492183042',\n",
       " '1179603565129736192',\n",
       " '1179879043874709504',\n",
       " '1179898724899835904',\n",
       " '1179911676537327616',\n",
       " '1179913243151785989',\n",
       " '1179925259417468928',\n",
       " '1179962400554008576',\n",
       " '118',\n",
       " '1180135546607288326',\n",
       " '1180229844078137345',\n",
       " '1180234554356973568',\n",
       " '1180245134363025415',\n",
       " '1180264901161472000',\n",
       " '1180307049827176453',\n",
       " '1180524380985679872',\n",
       " '1180539962611163136',\n",
       " '1180864952128671744',\n",
       " '1180yb8',\n",
       " '1181053382850514947',\n",
       " '1181319565235634177',\n",
       " '1181362650690867202',\n",
       " '1181369975677816832',\n",
       " '1181389560661577730',\n",
       " '1181559221453819904',\n",
       " '1181612030027030529',\n",
       " '1181682375425712128',\n",
       " '1181696544929697794',\n",
       " '1181704952273657857',\n",
       " '1181890573151678464',\n",
       " '1181904774209384450',\n",
       " '1181913815073603585',\n",
       " '1181914827117215744',\n",
       " '1181918781259571200',\n",
       " '1181926019692974081',\n",
       " '1181969511697788928',\n",
       " '1182043375815417856',\n",
       " '1182259309540990976',\n",
       " '1182303821407670274',\n",
       " '1182358854094544901',\n",
       " '1182470552818241536',\n",
       " '1182485222190915584',\n",
       " '1182663741827178497',\n",
       " '1182736397926588423',\n",
       " '1182758375509123072',\n",
       " '1183113326374600705',\n",
       " '1183115133456998400',\n",
       " '1183399176119443457',\n",
       " '1184198558007869440',\n",
       " '1184270536437915648',\n",
       " '1184283019768713221',\n",
       " '1184288405481541632',\n",
       " '1184297277541797888',\n",
       " '1184466327974617088',\n",
       " '1184495506195697665',\n",
       " '1184497591679107072',\n",
       " '1184835631408697344',\n",
       " '1184880769099096064',\n",
       " '1184924506747482112',\n",
       " '1185164957408792582',\n",
       " '1185370501809627136',\n",
       " '1185374577662271488',\n",
       " '1185385572937981952',\n",
       " '1185555345197977602',\n",
       " '1185656366138089478',\n",
       " '1186035774984245249',\n",
       " '1186365994035482624',\n",
       " '1186371416461066242',\n",
       " '1186617655479943168',\n",
       " '1186748559288340480',\n",
       " '1186817538782572544',\n",
       " '1187111493311107073',\n",
       " '1187176853599150081',\n",
       " '1187763371837415424',\n",
       " '1187795599241949184',\n",
       " '1187820031645798401',\n",
       " '1188636122764718080',\n",
       " '1188848384003604481',\n",
       " '1188856716638773255',\n",
       " '1188914973638057989',\n",
       " '1189228108022460417',\n",
       " '1189589231963987968',\n",
       " '1189600719957049345',\n",
       " '1189601417469841409',\n",
       " '1189706738838228998',\n",
       " '1189948192986714118',\n",
       " '118m',\n",
       " '119',\n",
       " '1190057966520668162',\n",
       " '1190304473190731778',\n",
       " '1190606019149340674',\n",
       " '1190616779049127941',\n",
       " '1190638811551862784',\n",
       " '1190715683681820672',\n",
       " '1190790447452577798',\n",
       " '1190841385345310722',\n",
       " '1191193570763563013',\n",
       " '1191194361452810241',\n",
       " '1191563608850911232',\n",
       " '1191752174084210699',\n",
       " '1191906297630859265',\n",
       " '1191937581711265794',\n",
       " '1192461425358385154',\n",
       " '1192640102943674368',\n",
       " '1192754718973530114',\n",
       " '1192834231707283457',\n",
       " '1193030111383228416',\n",
       " '1193206698745438209',\n",
       " '1193280422173708288',\n",
       " '1193327464308625409',\n",
       " '1193546581288636417',\n",
       " '1193581836691226625',\n",
       " '1193843654647058433',\n",
       " '1193971530297946113',\n",
       " '1194269692820635648',\n",
       " '1194448682466398209',\n",
       " '1194696248223240193',\n",
       " '1194733225249083392',\n",
       " '1195379578358960128',\n",
       " '1195408797633671168',\n",
       " '1195423988714999808',\n",
       " '1195429727370174469',\n",
       " '1195459246382616576',\n",
       " '1195493031715184645',\n",
       " '1195676437954670592',\n",
       " '1195687574074904576',\n",
       " '1195845039244623878',\n",
       " '1196158817408602113',\n",
       " '119662',\n",
       " '1196819014527410177',\n",
       " '1196923812136267777',\n",
       " '1196931156551311361',\n",
       " '1196948204241207296',\n",
       " '1197293250115014656',\n",
       " '1197305095970418688',\n",
       " '1197635945350254595',\n",
       " '11978141',\n",
       " '1197884074540650498',\n",
       " '1197943099781201922',\n",
       " '1198240749688676352',\n",
       " '1199187277450227712',\n",
       " '11a',\n",
       " '11am',\n",
       " '11bldev',\n",
       " '11catlm',\n",
       " '11cbssr',\n",
       " '11dinvl',\n",
       " '11e2',\n",
       " '11e4',\n",
       " '11e5',\n",
       " '11e6',\n",
       " '11e7',\n",
       " '11fhpr',\n",
       " '11glrmi',\n",
       " '11gmnko',\n",
       " '11m',\n",
       " '11n3atd',\n",
       " '11n5pgy',\n",
       " '11ngh6l',\n",
       " '11nt9z2',\n",
       " '11p4mhy',\n",
       " '11phenomenon',\n",
       " '11pm',\n",
       " '11rqiac',\n",
       " '11s',\n",
       " '11sheila11',\n",
       " '11summerb',\n",
       " '11th',\n",
       " '11thhttp',\n",
       " '11u1lzb',\n",
       " '11ubrck',\n",
       " '11x8jpb',\n",
       " '11yeyrd',\n",
       " '11zjf8n',\n",
       " '11zq8c3',\n",
       " '11zsnt7',\n",
       " '12',\n",
       " '120',\n",
       " '1200189112952795139',\n",
       " '1200593444944654336',\n",
       " '1200871391517650944',\n",
       " '1200892525931909120',\n",
       " '1200919325152034816',\n",
       " '1201216057924558848',\n",
       " '1201499577645449216',\n",
       " '1201525451367354370',\n",
       " '1201553654358200320',\n",
       " '1201590807',\n",
       " '1201591884',\n",
       " '1201912832272601088',\n",
       " '1201975346242957314',\n",
       " '1202772467510579201',\n",
       " '1203267964818067457',\n",
       " '1203337505552109568',\n",
       " '1203419642385043457',\n",
       " '1203519682038435840',\n",
       " '1203545049059020800',\n",
       " '1203666657769598976',\n",
       " '1203696367178309632',\n",
       " '1203855761690038273',\n",
       " '1204036130791985153',\n",
       " '1204083990501740546',\n",
       " '1204101738325823490',\n",
       " '1204417416446373889',\n",
       " '1204520225607225344',\n",
       " '1204530385817939968',\n",
       " '1204569081158000641',\n",
       " '1204578501409554437',\n",
       " '1204787517402353664',\n",
       " '1204797730641629188',\n",
       " '1204810172813729796',\n",
       " '1204839185737244672',\n",
       " '1204881311514669059',\n",
       " '1204894883410010119',\n",
       " '1204960786013024257',\n",
       " '1204988423230111744',\n",
       " '1205581534071271424',\n",
       " '1205596836708278272',\n",
       " '1205930681970417664',\n",
       " '1205989416927453186',\n",
       " '1205996212542955520',\n",
       " '1206071149005869056',\n",
       " '1206077319187587073',\n",
       " '1206323905704710144',\n",
       " '1206372649510850562',\n",
       " '1207076232849960960',\n",
       " '120708',\n",
       " '1207299582205542402',\n",
       " '1207359122372476928',\n",
       " '1207411432565956609',\n",
       " '1207479011464626176',\n",
       " '1207487262163951616',\n",
       " '1207492122548621312',\n",
       " '1207494537544896514',\n",
       " '1207609959241932800',\n",
       " '1207640058276265984',\n",
       " '1208077788323831809',\n",
       " '1208130142721040384',\n",
       " '1208133195205660675',\n",
       " '1208186990400692224',\n",
       " '1208196888559788033',\n",
       " '1208771819605508096',\n",
       " '1208776640362356737',\n",
       " '1209199407025053697',\n",
       " '120k',\n",
       " '120m',\n",
       " '120th',\n",
       " '121',\n",
       " '1210059718452031488',\n",
       " '1210183552375107584',\n",
       " '1210247652178313217',\n",
       " '1210570523970850816',\n",
       " '1210572716698488839',\n",
       " '1210602372680077315',\n",
       " '1210632030943211520',\n",
       " '1210679166170890240',\n",
       " '1210679968230821889',\n",
       " '1210683656097947648',\n",
       " '1210694529197756416',\n",
       " '1210701262498361344',\n",
       " '1210750161174941696',\n",
       " '1210781228149817355',\n",
       " '1211',\n",
       " '1211767146637930500',\n",
       " '1211834807862185985',\n",
       " '1212042598732439554',\n",
       " '1212055588550524928',\n",
       " '1212117724626862080',\n",
       " '1212120082832412678',\n",
       " '1212139414312275968',\n",
       " '1212171925520363521',\n",
       " '1212376966873206786',\n",
       " '1212391791774838784',\n",
       " '1212402251806990336',\n",
       " '1212475089133944832',\n",
       " '1213583859402657793',\n",
       " '1214207553971924996',\n",
       " '1214230745176322048',\n",
       " '1214608814185631749',\n",
       " '1214618992930959360',\n",
       " '1215112427756498945',\n",
       " '1215238525840429056',\n",
       " '1215259431166005248',\n",
       " '1215387768039317506',\n",
       " '1216212972391096320',\n",
       " '1216236014835920896',\n",
       " '1216356280933273600',\n",
       " '1216890283666890753',\n",
       " '1216896462858022912',\n",
       " '1217295090739228674',\n",
       " '1217508926872334336',\n",
       " '1217793784198639618',\n",
       " '1217855192399601665',\n",
       " '1217888605961506816',\n",
       " '1217927213179338758',\n",
       " '1218141834842660864',\n",
       " '1218181208909193220',\n",
       " '1218313039432290305',\n",
       " '1219329693863772160',\n",
       " '1219331040361271297',\n",
       " '1219708789957578752',\n",
       " '1219736663930417155',\n",
       " '1219790888714612738',\n",
       " '1219826046125641733',\n",
       " '1219909745450065920',\n",
       " '122',\n",
       " '1220047531272364037',\n",
       " '1220103171403665410',\n",
       " '1220364541046992899',\n",
       " '1220427121685864448',\n",
       " '1220466780524765187',\n",
       " '1220531644773199872',\n",
       " '1220712020263276545',\n",
       " ...]"
      ]
     },
     "execution_count": 19,
     "metadata": {},
     "output_type": "execute_result"
    }
   ],
   "source": [
    "vec_from_pipe.get_feature_names()"
   ]
  },
  {
   "cell_type": "code",
   "execution_count": 20,
   "metadata": {},
   "outputs": [],
   "source": [
    "# coefficients = pipe.coef_"
   ]
  },
  {
   "cell_type": "markdown",
   "metadata": {
    "id": "YnhpV6P7YrNx"
   },
   "source": [
    "Using these extracted components above, display the 5 words with the highest coefficients and the 5 words with the smallest coefficients."
   ]
  },
  {
   "cell_type": "markdown",
   "metadata": {
    "id": "vPok-Fh0YrNx"
   },
   "source": []
  },
  {
   "cell_type": "markdown",
   "metadata": {
    "id": "C_RfCSDeYrNx"
   },
   "source": [
    "<br><br>"
   ]
  },
  {
   "cell_type": "markdown",
   "metadata": {
    "id": "-gDTzDxPYrNy"
   },
   "source": [
    "#### 2(f)\n",
    "rubric={points:10}\n",
    "\n",
    "scikit-learn provides a lot of useful tools like `make_pipeline` and `cross_validate`, which are awesome. But with these fancy tools it's also easy to lose track of what is actually happening under the hood. Here, your task is to \"manually\" (without `Pipeline` and without `cross_validate` or `cross_val_score`) compute logistic regression's validation score on one fold (that is, train on 80% and validate on 20%) of the training data. \n",
    "\n",
    "You should start with the following `CountVectorizer` and `LogisticRegression` objects, as well as `X_train` and `y_train` (which you should further split):"
   ]
  },
  {
   "cell_type": "code",
   "execution_count": 21,
   "metadata": {
    "id": "5uV9CUn6YrNy"
   },
   "outputs": [],
   "source": [
    "countvec = CountVectorizer(stop_words=\"english\")\n",
    "lr = LogisticRegression(max_iter=1000)"
   ]
  },
  {
   "cell_type": "code",
   "execution_count": 39,
   "metadata": {},
   "outputs": [],
   "source": [
    "X = tweets_df[\"content\"]\n",
    "y = tweets_df[\"retweets\"] > 10_000\n",
    "X_train, X_test, y_train, y_test = train_test_split(X, y, train_size = 0.80)"
   ]
  },
  {
   "cell_type": "code",
   "execution_count": 23,
   "metadata": {},
   "outputs": [],
   "source": [
    "X_train = countvec.fit_transform(X_train)\n",
    "X_test = countvec.transform(X_test)"
   ]
  },
  {
   "cell_type": "code",
   "execution_count": 24,
   "metadata": {},
   "outputs": [
    {
     "data": {
      "text/plain": [
       "LogisticRegression(max_iter=1000)"
      ]
     },
     "execution_count": 24,
     "metadata": {},
     "output_type": "execute_result"
    }
   ],
   "source": [
    "lr.fit(X_train, y_train)"
   ]
  },
  {
   "cell_type": "code",
   "execution_count": 25,
   "metadata": {},
   "outputs": [],
   "source": [
    "scores = cross_val_score(lr, X_test, y_test, cv = 5)"
   ]
  },
  {
   "cell_type": "code",
   "execution_count": 26,
   "metadata": {},
   "outputs": [
    {
     "data": {
      "text/plain": [
       "0.8777546210889848"
      ]
     },
     "execution_count": 26,
     "metadata": {},
     "output_type": "execute_result"
    }
   ],
   "source": [
    "np.mean(scores)"
   ]
  },
  {
   "cell_type": "code",
   "execution_count": 27,
   "metadata": {},
   "outputs": [
    {
     "data": {
      "text/plain": [
       "0.8978203206089264"
      ]
     },
     "execution_count": 27,
     "metadata": {},
     "output_type": "execute_result"
    }
   ],
   "source": [
    "lr.score(X_test, y_test)"
   ]
  },
  {
   "cell_type": "markdown",
   "metadata": {
    "id": "HyELnkIEYrNy"
   },
   "source": [
    "Meta-comment: you might be wondering why we're going into \"implementation\" here if this course is about _applied_ ML. In CPSC 340, we would go all the way down into `LogisticRegression` and understand how `fit` works, line by line. Here we're not going into that at all, but I still think this type of question (and Exercise 1) is a useful middle ground. I do want you to know what is going on in `Pipeline` and in `cross_validate` even if we don't cover the details of `fit`. To get into logistic regression's `fit` requires a bunch of math; here, we're keeping it more conceptual and avoiding all those prerequisites."
   ]
  },
  {
   "cell_type": "markdown",
   "metadata": {
    "id": "7RlhhIWSYrNy"
   },
   "source": []
  },
  {
   "cell_type": "markdown",
   "metadata": {
    "id": "dmm9RXWpYrNy"
   },
   "source": [
    "<br><br><br><br>"
   ]
  },
  {
   "cell_type": "markdown",
   "metadata": {
    "id": "CjOoiWcaYrNz",
    "toc-hr-collapsed": true
   },
   "source": [
    "## Exercise 3: hyperparameter optimization\n",
    "<hr>"
   ]
  },
  {
   "cell_type": "markdown",
   "metadata": {
    "id": "OnZtJxCFYrNz",
    "nbgrader": {
     "grade": false,
     "grade_id": "cell-5e9e6fdea209d872",
     "locked": true,
     "schema_version": 3,
     "solution": false,
     "task": false
    }
   },
   "source": [
    "#### 3(a)\n",
    "rubric={points:4}\n",
    "\n",
    "The following code varies the `max_features` hyperparameter of `CountVectorizer` and makes a plot (with the x-axis on a log scale) that shows train/cross-validation scores vs. `max_features`. It also prints the results. Based on the plot/output, what value of `max_features` seems best? Briefly explain.\n",
    "\n",
    "Note: the code may take a minute or two to run. You can uncomment the `print` statement if you want to see it show the progress."
   ]
  },
  {
   "cell_type": "code",
   "execution_count": 28,
   "metadata": {},
   "outputs": [
    {
     "data": {
      "text/plain": [
       "<34681x42807 sparse matrix of type '<class 'numpy.int64'>'\n",
       "\twith 395886 stored elements in Compressed Sparse Row format>"
      ]
     },
     "execution_count": 28,
     "metadata": {},
     "output_type": "execute_result"
    }
   ],
   "source": [
    "X_train"
   ]
  },
  {
   "cell_type": "code",
   "execution_count": 29,
   "metadata": {
    "id": "ASVVU2GJYrNz"
   },
   "outputs": [
    {
     "name": "stdout",
     "output_type": "stream",
     "text": [
      "10\n",
      "100\n",
      "1000\n",
      "10000\n",
      "100000\n"
     ]
    },
    {
     "name": "stderr",
     "output_type": "stream",
     "text": [
      "C:\\Users\\ADMIN\\anaconda3\\lib\\site-packages\\sklearn\\model_selection\\_validation.py:372: FitFailedWarning: \n",
      "5 fits failed out of a total of 5.\n",
      "The score on these train-test partitions for these parameters will be set to nan.\n",
      "If these failures are not expected, you can try to debug them by setting error_score='raise'.\n",
      "\n",
      "Below are more details about the failures:\n",
      "--------------------------------------------------------------------------------\n",
      "5 fits failed with the following error:\n",
      "Traceback (most recent call last):\n",
      "  File \"C:\\Users\\ADMIN\\anaconda3\\lib\\site-packages\\sklearn\\model_selection\\_validation.py\", line 680, in _fit_and_score\n",
      "    estimator.fit(X_train, y_train, **fit_params)\n",
      "  File \"C:\\Users\\ADMIN\\anaconda3\\lib\\site-packages\\sklearn\\pipeline.py\", line 390, in fit\n",
      "    Xt = self._fit(X, y, **fit_params_steps)\n",
      "  File \"C:\\Users\\ADMIN\\anaconda3\\lib\\site-packages\\sklearn\\pipeline.py\", line 348, in _fit\n",
      "    X, fitted_transformer = fit_transform_one_cached(\n",
      "  File \"C:\\Users\\ADMIN\\anaconda3\\lib\\site-packages\\joblib\\memory.py\", line 349, in __call__\n",
      "    return self.func(*args, **kwargs)\n",
      "  File \"C:\\Users\\ADMIN\\anaconda3\\lib\\site-packages\\sklearn\\pipeline.py\", line 893, in _fit_transform_one\n",
      "    res = transformer.fit_transform(X, y, **fit_params)\n",
      "  File \"C:\\Users\\ADMIN\\anaconda3\\lib\\site-packages\\sklearn\\feature_extraction\\text.py\", line 1330, in fit_transform\n",
      "    vocabulary, X = self._count_vocab(raw_documents, self.fixed_vocabulary_)\n",
      "  File \"C:\\Users\\ADMIN\\anaconda3\\lib\\site-packages\\sklearn\\feature_extraction\\text.py\", line 1201, in _count_vocab\n",
      "    for feature in analyze(doc):\n",
      "  File \"C:\\Users\\ADMIN\\anaconda3\\lib\\site-packages\\sklearn\\feature_extraction\\text.py\", line 113, in _analyze\n",
      "    doc = preprocessor(doc)\n",
      "  File \"C:\\Users\\ADMIN\\anaconda3\\lib\\site-packages\\sklearn\\feature_extraction\\text.py\", line 71, in _preprocess\n",
      "    doc = doc.lower()\n",
      "  File \"C:\\Users\\ADMIN\\anaconda3\\lib\\site-packages\\scipy\\sparse\\_base.py\", line 771, in __getattr__\n",
      "    raise AttributeError(attr + \" not found\")\n",
      "AttributeError: lower not found\n",
      "\n",
      "  warnings.warn(some_fits_failed_message, FitFailedWarning)\n",
      "C:\\Users\\ADMIN\\anaconda3\\lib\\site-packages\\sklearn\\model_selection\\_validation.py:372: FitFailedWarning: \n",
      "5 fits failed out of a total of 5.\n",
      "The score on these train-test partitions for these parameters will be set to nan.\n",
      "If these failures are not expected, you can try to debug them by setting error_score='raise'.\n",
      "\n",
      "Below are more details about the failures:\n",
      "--------------------------------------------------------------------------------\n",
      "5 fits failed with the following error:\n",
      "Traceback (most recent call last):\n",
      "  File \"C:\\Users\\ADMIN\\anaconda3\\lib\\site-packages\\sklearn\\model_selection\\_validation.py\", line 680, in _fit_and_score\n",
      "    estimator.fit(X_train, y_train, **fit_params)\n",
      "  File \"C:\\Users\\ADMIN\\anaconda3\\lib\\site-packages\\sklearn\\pipeline.py\", line 390, in fit\n",
      "    Xt = self._fit(X, y, **fit_params_steps)\n",
      "  File \"C:\\Users\\ADMIN\\anaconda3\\lib\\site-packages\\sklearn\\pipeline.py\", line 348, in _fit\n",
      "    X, fitted_transformer = fit_transform_one_cached(\n",
      "  File \"C:\\Users\\ADMIN\\anaconda3\\lib\\site-packages\\joblib\\memory.py\", line 349, in __call__\n",
      "    return self.func(*args, **kwargs)\n",
      "  File \"C:\\Users\\ADMIN\\anaconda3\\lib\\site-packages\\sklearn\\pipeline.py\", line 893, in _fit_transform_one\n",
      "    res = transformer.fit_transform(X, y, **fit_params)\n",
      "  File \"C:\\Users\\ADMIN\\anaconda3\\lib\\site-packages\\sklearn\\feature_extraction\\text.py\", line 1330, in fit_transform\n",
      "    vocabulary, X = self._count_vocab(raw_documents, self.fixed_vocabulary_)\n",
      "  File \"C:\\Users\\ADMIN\\anaconda3\\lib\\site-packages\\sklearn\\feature_extraction\\text.py\", line 1201, in _count_vocab\n",
      "    for feature in analyze(doc):\n",
      "  File \"C:\\Users\\ADMIN\\anaconda3\\lib\\site-packages\\sklearn\\feature_extraction\\text.py\", line 113, in _analyze\n",
      "    doc = preprocessor(doc)\n",
      "  File \"C:\\Users\\ADMIN\\anaconda3\\lib\\site-packages\\sklearn\\feature_extraction\\text.py\", line 71, in _preprocess\n",
      "    doc = doc.lower()\n",
      "  File \"C:\\Users\\ADMIN\\anaconda3\\lib\\site-packages\\scipy\\sparse\\_base.py\", line 771, in __getattr__\n",
      "    raise AttributeError(attr + \" not found\")\n",
      "AttributeError: lower not found\n",
      "\n",
      "  warnings.warn(some_fits_failed_message, FitFailedWarning)\n",
      "C:\\Users\\ADMIN\\anaconda3\\lib\\site-packages\\sklearn\\model_selection\\_validation.py:372: FitFailedWarning: \n",
      "5 fits failed out of a total of 5.\n",
      "The score on these train-test partitions for these parameters will be set to nan.\n",
      "If these failures are not expected, you can try to debug them by setting error_score='raise'.\n",
      "\n",
      "Below are more details about the failures:\n",
      "--------------------------------------------------------------------------------\n",
      "5 fits failed with the following error:\n",
      "Traceback (most recent call last):\n",
      "  File \"C:\\Users\\ADMIN\\anaconda3\\lib\\site-packages\\sklearn\\model_selection\\_validation.py\", line 680, in _fit_and_score\n",
      "    estimator.fit(X_train, y_train, **fit_params)\n",
      "  File \"C:\\Users\\ADMIN\\anaconda3\\lib\\site-packages\\sklearn\\pipeline.py\", line 390, in fit\n",
      "    Xt = self._fit(X, y, **fit_params_steps)\n",
      "  File \"C:\\Users\\ADMIN\\anaconda3\\lib\\site-packages\\sklearn\\pipeline.py\", line 348, in _fit\n",
      "    X, fitted_transformer = fit_transform_one_cached(\n",
      "  File \"C:\\Users\\ADMIN\\anaconda3\\lib\\site-packages\\joblib\\memory.py\", line 349, in __call__\n",
      "    return self.func(*args, **kwargs)\n",
      "  File \"C:\\Users\\ADMIN\\anaconda3\\lib\\site-packages\\sklearn\\pipeline.py\", line 893, in _fit_transform_one\n",
      "    res = transformer.fit_transform(X, y, **fit_params)\n",
      "  File \"C:\\Users\\ADMIN\\anaconda3\\lib\\site-packages\\sklearn\\feature_extraction\\text.py\", line 1330, in fit_transform\n",
      "    vocabulary, X = self._count_vocab(raw_documents, self.fixed_vocabulary_)\n",
      "  File \"C:\\Users\\ADMIN\\anaconda3\\lib\\site-packages\\sklearn\\feature_extraction\\text.py\", line 1201, in _count_vocab\n",
      "    for feature in analyze(doc):\n",
      "  File \"C:\\Users\\ADMIN\\anaconda3\\lib\\site-packages\\sklearn\\feature_extraction\\text.py\", line 113, in _analyze\n",
      "    doc = preprocessor(doc)\n",
      "  File \"C:\\Users\\ADMIN\\anaconda3\\lib\\site-packages\\sklearn\\feature_extraction\\text.py\", line 71, in _preprocess\n",
      "    doc = doc.lower()\n",
      "  File \"C:\\Users\\ADMIN\\anaconda3\\lib\\site-packages\\scipy\\sparse\\_base.py\", line 771, in __getattr__\n",
      "    raise AttributeError(attr + \" not found\")\n",
      "AttributeError: lower not found\n",
      "\n",
      "  warnings.warn(some_fits_failed_message, FitFailedWarning)\n",
      "C:\\Users\\ADMIN\\anaconda3\\lib\\site-packages\\sklearn\\model_selection\\_validation.py:372: FitFailedWarning: \n",
      "5 fits failed out of a total of 5.\n",
      "The score on these train-test partitions for these parameters will be set to nan.\n",
      "If these failures are not expected, you can try to debug them by setting error_score='raise'.\n",
      "\n",
      "Below are more details about the failures:\n",
      "--------------------------------------------------------------------------------\n",
      "5 fits failed with the following error:\n",
      "Traceback (most recent call last):\n",
      "  File \"C:\\Users\\ADMIN\\anaconda3\\lib\\site-packages\\sklearn\\model_selection\\_validation.py\", line 680, in _fit_and_score\n",
      "    estimator.fit(X_train, y_train, **fit_params)\n",
      "  File \"C:\\Users\\ADMIN\\anaconda3\\lib\\site-packages\\sklearn\\pipeline.py\", line 390, in fit\n",
      "    Xt = self._fit(X, y, **fit_params_steps)\n",
      "  File \"C:\\Users\\ADMIN\\anaconda3\\lib\\site-packages\\sklearn\\pipeline.py\", line 348, in _fit\n",
      "    X, fitted_transformer = fit_transform_one_cached(\n",
      "  File \"C:\\Users\\ADMIN\\anaconda3\\lib\\site-packages\\joblib\\memory.py\", line 349, in __call__\n",
      "    return self.func(*args, **kwargs)\n",
      "  File \"C:\\Users\\ADMIN\\anaconda3\\lib\\site-packages\\sklearn\\pipeline.py\", line 893, in _fit_transform_one\n",
      "    res = transformer.fit_transform(X, y, **fit_params)\n",
      "  File \"C:\\Users\\ADMIN\\anaconda3\\lib\\site-packages\\sklearn\\feature_extraction\\text.py\", line 1330, in fit_transform\n",
      "    vocabulary, X = self._count_vocab(raw_documents, self.fixed_vocabulary_)\n",
      "  File \"C:\\Users\\ADMIN\\anaconda3\\lib\\site-packages\\sklearn\\feature_extraction\\text.py\", line 1201, in _count_vocab\n",
      "    for feature in analyze(doc):\n",
      "  File \"C:\\Users\\ADMIN\\anaconda3\\lib\\site-packages\\sklearn\\feature_extraction\\text.py\", line 113, in _analyze\n",
      "    doc = preprocessor(doc)\n",
      "  File \"C:\\Users\\ADMIN\\anaconda3\\lib\\site-packages\\sklearn\\feature_extraction\\text.py\", line 71, in _preprocess\n",
      "    doc = doc.lower()\n",
      "  File \"C:\\Users\\ADMIN\\anaconda3\\lib\\site-packages\\scipy\\sparse\\_base.py\", line 771, in __getattr__\n",
      "    raise AttributeError(attr + \" not found\")\n",
      "AttributeError: lower not found\n",
      "\n",
      "  warnings.warn(some_fits_failed_message, FitFailedWarning)\n",
      "C:\\Users\\ADMIN\\anaconda3\\lib\\site-packages\\sklearn\\model_selection\\_validation.py:372: FitFailedWarning: \n",
      "5 fits failed out of a total of 5.\n",
      "The score on these train-test partitions for these parameters will be set to nan.\n",
      "If these failures are not expected, you can try to debug them by setting error_score='raise'.\n",
      "\n",
      "Below are more details about the failures:\n",
      "--------------------------------------------------------------------------------\n",
      "5 fits failed with the following error:\n",
      "Traceback (most recent call last):\n",
      "  File \"C:\\Users\\ADMIN\\anaconda3\\lib\\site-packages\\sklearn\\model_selection\\_validation.py\", line 680, in _fit_and_score\n",
      "    estimator.fit(X_train, y_train, **fit_params)\n",
      "  File \"C:\\Users\\ADMIN\\anaconda3\\lib\\site-packages\\sklearn\\pipeline.py\", line 390, in fit\n",
      "    Xt = self._fit(X, y, **fit_params_steps)\n",
      "  File \"C:\\Users\\ADMIN\\anaconda3\\lib\\site-packages\\sklearn\\pipeline.py\", line 348, in _fit\n",
      "    X, fitted_transformer = fit_transform_one_cached(\n",
      "  File \"C:\\Users\\ADMIN\\anaconda3\\lib\\site-packages\\joblib\\memory.py\", line 349, in __call__\n",
      "    return self.func(*args, **kwargs)\n",
      "  File \"C:\\Users\\ADMIN\\anaconda3\\lib\\site-packages\\sklearn\\pipeline.py\", line 893, in _fit_transform_one\n",
      "    res = transformer.fit_transform(X, y, **fit_params)\n",
      "  File \"C:\\Users\\ADMIN\\anaconda3\\lib\\site-packages\\sklearn\\feature_extraction\\text.py\", line 1330, in fit_transform\n",
      "    vocabulary, X = self._count_vocab(raw_documents, self.fixed_vocabulary_)\n",
      "  File \"C:\\Users\\ADMIN\\anaconda3\\lib\\site-packages\\sklearn\\feature_extraction\\text.py\", line 1201, in _count_vocab\n",
      "    for feature in analyze(doc):\n",
      "  File \"C:\\Users\\ADMIN\\anaconda3\\lib\\site-packages\\sklearn\\feature_extraction\\text.py\", line 113, in _analyze\n",
      "    doc = preprocessor(doc)\n",
      "  File \"C:\\Users\\ADMIN\\anaconda3\\lib\\site-packages\\sklearn\\feature_extraction\\text.py\", line 71, in _preprocess\n",
      "    doc = doc.lower()\n",
      "  File \"C:\\Users\\ADMIN\\anaconda3\\lib\\site-packages\\scipy\\sparse\\_base.py\", line 771, in __getattr__\n",
      "    raise AttributeError(attr + \" not found\")\n",
      "AttributeError: lower not found\n",
      "\n",
      "  warnings.warn(some_fits_failed_message, FitFailedWarning)\n"
     ]
    },
    {
     "data": {
      "image/png": "[encoded data removed]",
      "text/plain": [
       "<Figure size 640x480 with 1 Axes>"
      ]
     },
     "metadata": {},
     "output_type": "display_data"
    }
   ],
   "source": [
    "train_scores = []\n",
    "cv_scores = []\n",
    "\n",
    "max_features = [10, 100, 1000, 10_000, 100_000]\n",
    "\n",
    "for mf in max_features:\n",
    "    print(mf)\n",
    "    pipe = make_pipeline(\n",
    "        CountVectorizer(stop_words=\"english\", max_features=mf),\n",
    "        LogisticRegression(max_iter=1000),\n",
    "    )\n",
    "    cv_results = cross_validate(pipe, X_train, y_train, return_train_score=True)\n",
    "    train_scores.append(cv_results[\"train_score\"].mean())\n",
    "    cv_scores.append(cv_results[\"test_score\"].mean())\n",
    "    \n",
    "plt.semilogx(max_features, train_scores, label=\"train\");\n",
    "plt.semilogx(max_features, cv_scores, label=\"valid\");\n",
    "plt.legend();\n",
    "plt.xlabel(\"max_features\");\n",
    "plt.ylabel(\"accuracy\");"
   ]
  },
  {
   "cell_type": "code",
   "execution_count": 30,
   "metadata": {
    "id": "7Xj9GOqAYrNz"
   },
   "outputs": [
    {
     "data": {
      "text/html": [
       "<div>\n",
       "<style scoped>\n",
       "    .dataframe tbody tr th:only-of-type {\n",
       "        vertical-align: middle;\n",
       "    }\n",
       "\n",
       "    .dataframe tbody tr th {\n",
       "        vertical-align: top;\n",
       "    }\n",
       "\n",
       "    .dataframe thead th {\n",
       "        text-align: right;\n",
       "    }\n",
       "</style>\n",
       "<table border=\"1\" class=\"dataframe\">\n",
       "  <thead>\n",
       "    <tr style=\"text-align: right;\">\n",
       "      <th></th>\n",
       "      <th>max_features</th>\n",
       "      <th>train</th>\n",
       "      <th>cv</th>\n",
       "    </tr>\n",
       "  </thead>\n",
       "  <tbody>\n",
       "    <tr>\n",
       "      <th>0</th>\n",
       "      <td>10</td>\n",
       "      <td>NaN</td>\n",
       "      <td>NaN</td>\n",
       "    </tr>\n",
       "    <tr>\n",
       "      <th>1</th>\n",
       "      <td>100</td>\n",
       "      <td>NaN</td>\n",
       "      <td>NaN</td>\n",
       "    </tr>\n",
       "    <tr>\n",
       "      <th>2</th>\n",
       "      <td>1000</td>\n",
       "      <td>NaN</td>\n",
       "      <td>NaN</td>\n",
       "    </tr>\n",
       "    <tr>\n",
       "      <th>3</th>\n",
       "      <td>10000</td>\n",
       "      <td>NaN</td>\n",
       "      <td>NaN</td>\n",
       "    </tr>\n",
       "    <tr>\n",
       "      <th>4</th>\n",
       "      <td>100000</td>\n",
       "      <td>NaN</td>\n",
       "      <td>NaN</td>\n",
       "    </tr>\n",
       "  </tbody>\n",
       "</table>\n",
       "</div>"
      ],
      "text/plain": [
       "   max_features  train  cv\n",
       "0            10    NaN NaN\n",
       "1           100    NaN NaN\n",
       "2          1000    NaN NaN\n",
       "3         10000    NaN NaN\n",
       "4        100000    NaN NaN"
      ]
     },
     "execution_count": 30,
     "metadata": {},
     "output_type": "execute_result"
    }
   ],
   "source": [
    "pd.DataFrame({\"max_features\": max_features, \"train\": train_scores, \"cv\": cv_scores})"
   ]
  },
  {
   "cell_type": "markdown",
   "metadata": {
    "id": "7i8B9DSWYrN0"
   },
   "source": []
  },
  {
   "cell_type": "markdown",
   "metadata": {
    "id": "PdpAQlc9YrN0"
   },
   "source": [
    "<br><br>"
   ]
  },
  {
   "cell_type": "markdown",
   "metadata": {
    "id": "nYWMfXjDYrN0"
   },
   "source": [
    "#### 3(b)\n",
    "rubric={points:4}\n",
    "\n",
    "The following code varies the `C` hyperparameter of `LogisticRegression` and makes a plot (with the x-axis on a log scale) that shows train/cross-validation scores vs. `C`. Based on the plot, what value of `C` seems best?\n",
    "\n",
    "Note: the code may take a minute or two to run. You can uncomment the `print` statement if you want to see it show the progress."
   ]
  },
  {
   "cell_type": "code",
   "execution_count": 31,
   "metadata": {
    "id": "Kf2Oo0HZYrN0"
   },
   "outputs": [
    {
     "name": "stderr",
     "output_type": "stream",
     "text": [
      "C:\\Users\\ADMIN\\anaconda3\\lib\\site-packages\\sklearn\\model_selection\\_validation.py:372: FitFailedWarning: \n",
      "5 fits failed out of a total of 5.\n",
      "The score on these train-test partitions for these parameters will be set to nan.\n",
      "If these failures are not expected, you can try to debug them by setting error_score='raise'.\n",
      "\n",
      "Below are more details about the failures:\n",
      "--------------------------------------------------------------------------------\n",
      "5 fits failed with the following error:\n",
      "Traceback (most recent call last):\n",
      "  File \"C:\\Users\\ADMIN\\anaconda3\\lib\\site-packages\\sklearn\\model_selection\\_validation.py\", line 680, in _fit_and_score\n",
      "    estimator.fit(X_train, y_train, **fit_params)\n",
      "  File \"C:\\Users\\ADMIN\\anaconda3\\lib\\site-packages\\sklearn\\pipeline.py\", line 390, in fit\n",
      "    Xt = self._fit(X, y, **fit_params_steps)\n",
      "  File \"C:\\Users\\ADMIN\\anaconda3\\lib\\site-packages\\sklearn\\pipeline.py\", line 348, in _fit\n",
      "    X, fitted_transformer = fit_transform_one_cached(\n",
      "  File \"C:\\Users\\ADMIN\\anaconda3\\lib\\site-packages\\joblib\\memory.py\", line 349, in __call__\n",
      "    return self.func(*args, **kwargs)\n",
      "  File \"C:\\Users\\ADMIN\\anaconda3\\lib\\site-packages\\sklearn\\pipeline.py\", line 893, in _fit_transform_one\n",
      "    res = transformer.fit_transform(X, y, **fit_params)\n",
      "  File \"C:\\Users\\ADMIN\\anaconda3\\lib\\site-packages\\sklearn\\feature_extraction\\text.py\", line 1330, in fit_transform\n",
      "    vocabulary, X = self._count_vocab(raw_documents, self.fixed_vocabulary_)\n",
      "  File \"C:\\Users\\ADMIN\\anaconda3\\lib\\site-packages\\sklearn\\feature_extraction\\text.py\", line 1201, in _count_vocab\n",
      "    for feature in analyze(doc):\n",
      "  File \"C:\\Users\\ADMIN\\anaconda3\\lib\\site-packages\\sklearn\\feature_extraction\\text.py\", line 113, in _analyze\n",
      "    doc = preprocessor(doc)\n",
      "  File \"C:\\Users\\ADMIN\\anaconda3\\lib\\site-packages\\sklearn\\feature_extraction\\text.py\", line 71, in _preprocess\n",
      "    doc = doc.lower()\n",
      "  File \"C:\\Users\\ADMIN\\anaconda3\\lib\\site-packages\\scipy\\sparse\\_base.py\", line 771, in __getattr__\n",
      "    raise AttributeError(attr + \" not found\")\n",
      "AttributeError: lower not found\n",
      "\n",
      "  warnings.warn(some_fits_failed_message, FitFailedWarning)\n",
      "C:\\Users\\ADMIN\\anaconda3\\lib\\site-packages\\sklearn\\model_selection\\_validation.py:372: FitFailedWarning: \n",
      "5 fits failed out of a total of 5.\n",
      "The score on these train-test partitions for these parameters will be set to nan.\n",
      "If these failures are not expected, you can try to debug them by setting error_score='raise'.\n",
      "\n",
      "Below are more details about the failures:\n",
      "--------------------------------------------------------------------------------\n",
      "5 fits failed with the following error:\n",
      "Traceback (most recent call last):\n",
      "  File \"C:\\Users\\ADMIN\\anaconda3\\lib\\site-packages\\sklearn\\model_selection\\_validation.py\", line 680, in _fit_and_score\n",
      "    estimator.fit(X_train, y_train, **fit_params)\n",
      "  File \"C:\\Users\\ADMIN\\anaconda3\\lib\\site-packages\\sklearn\\pipeline.py\", line 390, in fit\n",
      "    Xt = self._fit(X, y, **fit_params_steps)\n",
      "  File \"C:\\Users\\ADMIN\\anaconda3\\lib\\site-packages\\sklearn\\pipeline.py\", line 348, in _fit\n",
      "    X, fitted_transformer = fit_transform_one_cached(\n",
      "  File \"C:\\Users\\ADMIN\\anaconda3\\lib\\site-packages\\joblib\\memory.py\", line 349, in __call__\n",
      "    return self.func(*args, **kwargs)\n",
      "  File \"C:\\Users\\ADMIN\\anaconda3\\lib\\site-packages\\sklearn\\pipeline.py\", line 893, in _fit_transform_one\n",
      "    res = transformer.fit_transform(X, y, **fit_params)\n",
      "  File \"C:\\Users\\ADMIN\\anaconda3\\lib\\site-packages\\sklearn\\feature_extraction\\text.py\", line 1330, in fit_transform\n",
      "    vocabulary, X = self._count_vocab(raw_documents, self.fixed_vocabulary_)\n",
      "  File \"C:\\Users\\ADMIN\\anaconda3\\lib\\site-packages\\sklearn\\feature_extraction\\text.py\", line 1201, in _count_vocab\n",
      "    for feature in analyze(doc):\n",
      "  File \"C:\\Users\\ADMIN\\anaconda3\\lib\\site-packages\\sklearn\\feature_extraction\\text.py\", line 113, in _analyze\n",
      "    doc = preprocessor(doc)\n",
      "  File \"C:\\Users\\ADMIN\\anaconda3\\lib\\site-packages\\sklearn\\feature_extraction\\text.py\", line 71, in _preprocess\n",
      "    doc = doc.lower()\n",
      "  File \"C:\\Users\\ADMIN\\anaconda3\\lib\\site-packages\\scipy\\sparse\\_base.py\", line 771, in __getattr__\n",
      "    raise AttributeError(attr + \" not found\")\n",
      "AttributeError: lower not found\n",
      "\n",
      "  warnings.warn(some_fits_failed_message, FitFailedWarning)\n",
      "C:\\Users\\ADMIN\\anaconda3\\lib\\site-packages\\sklearn\\model_selection\\_validation.py:372: FitFailedWarning: \n",
      "5 fits failed out of a total of 5.\n",
      "The score on these train-test partitions for these parameters will be set to nan.\n",
      "If these failures are not expected, you can try to debug them by setting error_score='raise'.\n",
      "\n",
      "Below are more details about the failures:\n",
      "--------------------------------------------------------------------------------\n",
      "5 fits failed with the following error:\n",
      "Traceback (most recent call last):\n",
      "  File \"C:\\Users\\ADMIN\\anaconda3\\lib\\site-packages\\sklearn\\model_selection\\_validation.py\", line 680, in _fit_and_score\n",
      "    estimator.fit(X_train, y_train, **fit_params)\n",
      "  File \"C:\\Users\\ADMIN\\anaconda3\\lib\\site-packages\\sklearn\\pipeline.py\", line 390, in fit\n",
      "    Xt = self._fit(X, y, **fit_params_steps)\n",
      "  File \"C:\\Users\\ADMIN\\anaconda3\\lib\\site-packages\\sklearn\\pipeline.py\", line 348, in _fit\n",
      "    X, fitted_transformer = fit_transform_one_cached(\n",
      "  File \"C:\\Users\\ADMIN\\anaconda3\\lib\\site-packages\\joblib\\memory.py\", line 349, in __call__\n",
      "    return self.func(*args, **kwargs)\n",
      "  File \"C:\\Users\\ADMIN\\anaconda3\\lib\\site-packages\\sklearn\\pipeline.py\", line 893, in _fit_transform_one\n",
      "    res = transformer.fit_transform(X, y, **fit_params)\n",
      "  File \"C:\\Users\\ADMIN\\anaconda3\\lib\\site-packages\\sklearn\\feature_extraction\\text.py\", line 1330, in fit_transform\n",
      "    vocabulary, X = self._count_vocab(raw_documents, self.fixed_vocabulary_)\n",
      "  File \"C:\\Users\\ADMIN\\anaconda3\\lib\\site-packages\\sklearn\\feature_extraction\\text.py\", line 1201, in _count_vocab\n",
      "    for feature in analyze(doc):\n",
      "  File \"C:\\Users\\ADMIN\\anaconda3\\lib\\site-packages\\sklearn\\feature_extraction\\text.py\", line 113, in _analyze\n",
      "    doc = preprocessor(doc)\n",
      "  File \"C:\\Users\\ADMIN\\anaconda3\\lib\\site-packages\\sklearn\\feature_extraction\\text.py\", line 71, in _preprocess\n",
      "    doc = doc.lower()\n",
      "  File \"C:\\Users\\ADMIN\\anaconda3\\lib\\site-packages\\scipy\\sparse\\_base.py\", line 771, in __getattr__\n",
      "    raise AttributeError(attr + \" not found\")\n",
      "AttributeError: lower not found\n",
      "\n",
      "  warnings.warn(some_fits_failed_message, FitFailedWarning)\n",
      "C:\\Users\\ADMIN\\anaconda3\\lib\\site-packages\\sklearn\\model_selection\\_validation.py:372: FitFailedWarning: \n",
      "5 fits failed out of a total of 5.\n",
      "The score on these train-test partitions for these parameters will be set to nan.\n",
      "If these failures are not expected, you can try to debug them by setting error_score='raise'.\n",
      "\n",
      "Below are more details about the failures:\n",
      "--------------------------------------------------------------------------------\n",
      "5 fits failed with the following error:\n",
      "Traceback (most recent call last):\n",
      "  File \"C:\\Users\\ADMIN\\anaconda3\\lib\\site-packages\\sklearn\\model_selection\\_validation.py\", line 680, in _fit_and_score\n",
      "    estimator.fit(X_train, y_train, **fit_params)\n",
      "  File \"C:\\Users\\ADMIN\\anaconda3\\lib\\site-packages\\sklearn\\pipeline.py\", line 390, in fit\n",
      "    Xt = self._fit(X, y, **fit_params_steps)\n",
      "  File \"C:\\Users\\ADMIN\\anaconda3\\lib\\site-packages\\sklearn\\pipeline.py\", line 348, in _fit\n",
      "    X, fitted_transformer = fit_transform_one_cached(\n",
      "  File \"C:\\Users\\ADMIN\\anaconda3\\lib\\site-packages\\joblib\\memory.py\", line 349, in __call__\n",
      "    return self.func(*args, **kwargs)\n",
      "  File \"C:\\Users\\ADMIN\\anaconda3\\lib\\site-packages\\sklearn\\pipeline.py\", line 893, in _fit_transform_one\n",
      "    res = transformer.fit_transform(X, y, **fit_params)\n",
      "  File \"C:\\Users\\ADMIN\\anaconda3\\lib\\site-packages\\sklearn\\feature_extraction\\text.py\", line 1330, in fit_transform\n",
      "    vocabulary, X = self._count_vocab(raw_documents, self.fixed_vocabulary_)\n",
      "  File \"C:\\Users\\ADMIN\\anaconda3\\lib\\site-packages\\sklearn\\feature_extraction\\text.py\", line 1201, in _count_vocab\n",
      "    for feature in analyze(doc):\n",
      "  File \"C:\\Users\\ADMIN\\anaconda3\\lib\\site-packages\\sklearn\\feature_extraction\\text.py\", line 113, in _analyze\n",
      "    doc = preprocessor(doc)\n",
      "  File \"C:\\Users\\ADMIN\\anaconda3\\lib\\site-packages\\sklearn\\feature_extraction\\text.py\", line 71, in _preprocess\n",
      "    doc = doc.lower()\n",
      "  File \"C:\\Users\\ADMIN\\anaconda3\\lib\\site-packages\\scipy\\sparse\\_base.py\", line 771, in __getattr__\n",
      "    raise AttributeError(attr + \" not found\")\n",
      "AttributeError: lower not found\n",
      "\n",
      "  warnings.warn(some_fits_failed_message, FitFailedWarning)\n",
      "C:\\Users\\ADMIN\\anaconda3\\lib\\site-packages\\sklearn\\model_selection\\_validation.py:372: FitFailedWarning: \n",
      "5 fits failed out of a total of 5.\n",
      "The score on these train-test partitions for these parameters will be set to nan.\n",
      "If these failures are not expected, you can try to debug them by setting error_score='raise'.\n",
      "\n",
      "Below are more details about the failures:\n",
      "--------------------------------------------------------------------------------\n",
      "5 fits failed with the following error:\n",
      "Traceback (most recent call last):\n",
      "  File \"C:\\Users\\ADMIN\\anaconda3\\lib\\site-packages\\sklearn\\model_selection\\_validation.py\", line 680, in _fit_and_score\n",
      "    estimator.fit(X_train, y_train, **fit_params)\n",
      "  File \"C:\\Users\\ADMIN\\anaconda3\\lib\\site-packages\\sklearn\\pipeline.py\", line 390, in fit\n",
      "    Xt = self._fit(X, y, **fit_params_steps)\n",
      "  File \"C:\\Users\\ADMIN\\anaconda3\\lib\\site-packages\\sklearn\\pipeline.py\", line 348, in _fit\n",
      "    X, fitted_transformer = fit_transform_one_cached(\n",
      "  File \"C:\\Users\\ADMIN\\anaconda3\\lib\\site-packages\\joblib\\memory.py\", line 349, in __call__\n",
      "    return self.func(*args, **kwargs)\n",
      "  File \"C:\\Users\\ADMIN\\anaconda3\\lib\\site-packages\\sklearn\\pipeline.py\", line 893, in _fit_transform_one\n",
      "    res = transformer.fit_transform(X, y, **fit_params)\n",
      "  File \"C:\\Users\\ADMIN\\anaconda3\\lib\\site-packages\\sklearn\\feature_extraction\\text.py\", line 1330, in fit_transform\n",
      "    vocabulary, X = self._count_vocab(raw_documents, self.fixed_vocabulary_)\n",
      "  File \"C:\\Users\\ADMIN\\anaconda3\\lib\\site-packages\\sklearn\\feature_extraction\\text.py\", line 1201, in _count_vocab\n",
      "    for feature in analyze(doc):\n",
      "  File \"C:\\Users\\ADMIN\\anaconda3\\lib\\site-packages\\sklearn\\feature_extraction\\text.py\", line 113, in _analyze\n",
      "    doc = preprocessor(doc)\n",
      "  File \"C:\\Users\\ADMIN\\anaconda3\\lib\\site-packages\\sklearn\\feature_extraction\\text.py\", line 71, in _preprocess\n",
      "    doc = doc.lower()\n",
      "  File \"C:\\Users\\ADMIN\\anaconda3\\lib\\site-packages\\scipy\\sparse\\_base.py\", line 771, in __getattr__\n",
      "    raise AttributeError(attr + \" not found\")\n",
      "AttributeError: lower not found\n",
      "\n",
      "  warnings.warn(some_fits_failed_message, FitFailedWarning)\n",
      "C:\\Users\\ADMIN\\anaconda3\\lib\\site-packages\\sklearn\\model_selection\\_validation.py:372: FitFailedWarning: \n",
      "5 fits failed out of a total of 5.\n",
      "The score on these train-test partitions for these parameters will be set to nan.\n",
      "If these failures are not expected, you can try to debug them by setting error_score='raise'.\n",
      "\n",
      "Below are more details about the failures:\n",
      "--------------------------------------------------------------------------------\n",
      "5 fits failed with the following error:\n",
      "Traceback (most recent call last):\n",
      "  File \"C:\\Users\\ADMIN\\anaconda3\\lib\\site-packages\\sklearn\\model_selection\\_validation.py\", line 680, in _fit_and_score\n",
      "    estimator.fit(X_train, y_train, **fit_params)\n",
      "  File \"C:\\Users\\ADMIN\\anaconda3\\lib\\site-packages\\sklearn\\pipeline.py\", line 390, in fit\n",
      "    Xt = self._fit(X, y, **fit_params_steps)\n",
      "  File \"C:\\Users\\ADMIN\\anaconda3\\lib\\site-packages\\sklearn\\pipeline.py\", line 348, in _fit\n",
      "    X, fitted_transformer = fit_transform_one_cached(\n",
      "  File \"C:\\Users\\ADMIN\\anaconda3\\lib\\site-packages\\joblib\\memory.py\", line 349, in __call__\n",
      "    return self.func(*args, **kwargs)\n",
      "  File \"C:\\Users\\ADMIN\\anaconda3\\lib\\site-packages\\sklearn\\pipeline.py\", line 893, in _fit_transform_one\n",
      "    res = transformer.fit_transform(X, y, **fit_params)\n",
      "  File \"C:\\Users\\ADMIN\\anaconda3\\lib\\site-packages\\sklearn\\feature_extraction\\text.py\", line 1330, in fit_transform\n",
      "    vocabulary, X = self._count_vocab(raw_documents, self.fixed_vocabulary_)\n",
      "  File \"C:\\Users\\ADMIN\\anaconda3\\lib\\site-packages\\sklearn\\feature_extraction\\text.py\", line 1201, in _count_vocab\n",
      "    for feature in analyze(doc):\n",
      "  File \"C:\\Users\\ADMIN\\anaconda3\\lib\\site-packages\\sklearn\\feature_extraction\\text.py\", line 113, in _analyze\n",
      "    doc = preprocessor(doc)\n",
      "  File \"C:\\Users\\ADMIN\\anaconda3\\lib\\site-packages\\sklearn\\feature_extraction\\text.py\", line 71, in _preprocess\n",
      "    doc = doc.lower()\n",
      "  File \"C:\\Users\\ADMIN\\anaconda3\\lib\\site-packages\\scipy\\sparse\\_base.py\", line 771, in __getattr__\n",
      "    raise AttributeError(attr + \" not found\")\n",
      "AttributeError: lower not found\n",
      "\n",
      "  warnings.warn(some_fits_failed_message, FitFailedWarning)\n",
      "C:\\Users\\ADMIN\\anaconda3\\lib\\site-packages\\sklearn\\model_selection\\_validation.py:372: FitFailedWarning: \n",
      "5 fits failed out of a total of 5.\n",
      "The score on these train-test partitions for these parameters will be set to nan.\n",
      "If these failures are not expected, you can try to debug them by setting error_score='raise'.\n",
      "\n",
      "Below are more details about the failures:\n",
      "--------------------------------------------------------------------------------\n",
      "5 fits failed with the following error:\n",
      "Traceback (most recent call last):\n",
      "  File \"C:\\Users\\ADMIN\\anaconda3\\lib\\site-packages\\sklearn\\model_selection\\_validation.py\", line 680, in _fit_and_score\n",
      "    estimator.fit(X_train, y_train, **fit_params)\n",
      "  File \"C:\\Users\\ADMIN\\anaconda3\\lib\\site-packages\\sklearn\\pipeline.py\", line 390, in fit\n",
      "    Xt = self._fit(X, y, **fit_params_steps)\n",
      "  File \"C:\\Users\\ADMIN\\anaconda3\\lib\\site-packages\\sklearn\\pipeline.py\", line 348, in _fit\n",
      "    X, fitted_transformer = fit_transform_one_cached(\n",
      "  File \"C:\\Users\\ADMIN\\anaconda3\\lib\\site-packages\\joblib\\memory.py\", line 349, in __call__\n",
      "    return self.func(*args, **kwargs)\n",
      "  File \"C:\\Users\\ADMIN\\anaconda3\\lib\\site-packages\\sklearn\\pipeline.py\", line 893, in _fit_transform_one\n",
      "    res = transformer.fit_transform(X, y, **fit_params)\n",
      "  File \"C:\\Users\\ADMIN\\anaconda3\\lib\\site-packages\\sklearn\\feature_extraction\\text.py\", line 1330, in fit_transform\n",
      "    vocabulary, X = self._count_vocab(raw_documents, self.fixed_vocabulary_)\n",
      "  File \"C:\\Users\\ADMIN\\anaconda3\\lib\\site-packages\\sklearn\\feature_extraction\\text.py\", line 1201, in _count_vocab\n",
      "    for feature in analyze(doc):\n",
      "  File \"C:\\Users\\ADMIN\\anaconda3\\lib\\site-packages\\sklearn\\feature_extraction\\text.py\", line 113, in _analyze\n",
      "    doc = preprocessor(doc)\n",
      "  File \"C:\\Users\\ADMIN\\anaconda3\\lib\\site-packages\\sklearn\\feature_extraction\\text.py\", line 71, in _preprocess\n",
      "    doc = doc.lower()\n",
      "  File \"C:\\Users\\ADMIN\\anaconda3\\lib\\site-packages\\scipy\\sparse\\_base.py\", line 771, in __getattr__\n",
      "    raise AttributeError(attr + \" not found\")\n",
      "AttributeError: lower not found\n",
      "\n",
      "  warnings.warn(some_fits_failed_message, FitFailedWarning)\n"
     ]
    },
    {
     "data": {
      "image/png": "[encoded data removed]",
      "text/plain": [
       "<Figure size 640x480 with 1 Axes>"
      ]
     },
     "metadata": {},
     "output_type": "display_data"
    }
   ],
   "source": [
    "train_scores = []\n",
    "cv_scores = []\n",
    "\n",
    "C_vals = 10.0 ** np.arange(-1.5, 2, 0.5)\n",
    "\n",
    "for C in C_vals:\n",
    "    #     print(C)\n",
    "    pipe = make_pipeline(\n",
    "        CountVectorizer(stop_words=\"english\", max_features=None),\n",
    "        LogisticRegression(max_iter=1000, C=C),\n",
    "    )\n",
    "    cv_results = cross_validate(pipe, X_train, y_train, return_train_score=True)\n",
    "\n",
    "    train_scores.append(cv_results[\"train_score\"].mean())\n",
    "    cv_scores.append(cv_results[\"test_score\"].mean())\n",
    "\n",
    "plt.semilogx(C_vals, train_scores, label=\"train\")\n",
    "plt.semilogx(C_vals, cv_scores, label=\"valid\")\n",
    "plt.legend()\n",
    "plt.xlabel(\"C\")\n",
    "plt.ylabel(\"accuracy\");"
   ]
  },
  {
   "cell_type": "code",
   "execution_count": 32,
   "metadata": {
    "id": "q3mxFnohYrN0"
   },
   "outputs": [
    {
     "data": {
      "text/html": [
       "<div>\n",
       "<style scoped>\n",
       "    .dataframe tbody tr th:only-of-type {\n",
       "        vertical-align: middle;\n",
       "    }\n",
       "\n",
       "    .dataframe tbody tr th {\n",
       "        vertical-align: top;\n",
       "    }\n",
       "\n",
       "    .dataframe thead th {\n",
       "        text-align: right;\n",
       "    }\n",
       "</style>\n",
       "<table border=\"1\" class=\"dataframe\">\n",
       "  <thead>\n",
       "    <tr style=\"text-align: right;\">\n",
       "      <th></th>\n",
       "      <th>C</th>\n",
       "      <th>train</th>\n",
       "      <th>cv</th>\n",
       "    </tr>\n",
       "  </thead>\n",
       "  <tbody>\n",
       "    <tr>\n",
       "      <th>0</th>\n",
       "      <td>0.031623</td>\n",
       "      <td>NaN</td>\n",
       "      <td>NaN</td>\n",
       "    </tr>\n",
       "    <tr>\n",
       "      <th>1</th>\n",
       "      <td>0.100000</td>\n",
       "      <td>NaN</td>\n",
       "      <td>NaN</td>\n",
       "    </tr>\n",
       "    <tr>\n",
       "      <th>2</th>\n",
       "      <td>0.316228</td>\n",
       "      <td>NaN</td>\n",
       "      <td>NaN</td>\n",
       "    </tr>\n",
       "    <tr>\n",
       "      <th>3</th>\n",
       "      <td>1.000000</td>\n",
       "      <td>NaN</td>\n",
       "      <td>NaN</td>\n",
       "    </tr>\n",
       "    <tr>\n",
       "      <th>4</th>\n",
       "      <td>3.162278</td>\n",
       "      <td>NaN</td>\n",
       "      <td>NaN</td>\n",
       "    </tr>\n",
       "    <tr>\n",
       "      <th>5</th>\n",
       "      <td>10.000000</td>\n",
       "      <td>NaN</td>\n",
       "      <td>NaN</td>\n",
       "    </tr>\n",
       "    <tr>\n",
       "      <th>6</th>\n",
       "      <td>31.622777</td>\n",
       "      <td>NaN</td>\n",
       "      <td>NaN</td>\n",
       "    </tr>\n",
       "  </tbody>\n",
       "</table>\n",
       "</div>"
      ],
      "text/plain": [
       "           C  train  cv\n",
       "0   0.031623    NaN NaN\n",
       "1   0.100000    NaN NaN\n",
       "2   0.316228    NaN NaN\n",
       "3   1.000000    NaN NaN\n",
       "4   3.162278    NaN NaN\n",
       "5  10.000000    NaN NaN\n",
       "6  31.622777    NaN NaN"
      ]
     },
     "execution_count": 32,
     "metadata": {},
     "output_type": "execute_result"
    }
   ],
   "source": [
    "pd.DataFrame({\"C\": C_vals, \"train\": train_scores, \"cv\": cv_scores})"
   ]
  },
  {
   "cell_type": "markdown",
   "metadata": {
    "id": "FQisBcRIYrN1"
   },
   "source": []
  },
  {
   "cell_type": "markdown",
   "metadata": {
    "id": "DyeNRlF0YrN1"
   },
   "source": [
    "<br><br>"
   ]
  },
  {
   "cell_type": "markdown",
   "metadata": {
    "id": "wMJV_v5FYrN1"
   },
   "source": [
    "#### 3(c)\n",
    "rubric={points:12}\n",
    "\n",
    "- Using `GridSearchCV`, jointly optimize `max_features` and `C` across all the combinations of values we tried above. \n",
    "  - Note: the code might be a bit slow here. \n",
    "  - Setting `n_jobs=-1` should speed it up if you have a multi-core processor.\n",
    "  - You can reduce the number of folds (e.g. `cv=2`) to speed it up if necessary.\n",
    "- What are the best values of `max_features` and `C` according to your grid search?\n",
    "- Do these best values agree with what you found in parts (a) and (b)?\n",
    "- Generally speaking, _should_ these values agree with what you found in parts (a) and (b)? Explain."
   ]
  },
  {
   "cell_type": "markdown",
   "metadata": {
    "id": "xjKQPENCYrN1"
   },
   "source": []
  },
  {
   "cell_type": "code",
   "execution_count": 40,
   "metadata": {},
   "outputs": [],
   "source": [
    "pipe = make_pipeline(\n",
    "        CountVectorizer(stop_words=\"english\"),\n",
    "        LogisticRegression(max_iter=1000))"
   ]
  },
  {
   "cell_type": "code",
   "execution_count": 41,
   "metadata": {},
   "outputs": [],
   "source": [
    "params = [{'logisticregression__C': 10.0 ** np.arange(-1.5, 2, 0.5), \n",
    "           'countvectorizer__max_features': [10, 100, 1000, 10_000, 100_000]}]"
   ]
  },
  {
   "cell_type": "code",
   "execution_count": 42,
   "metadata": {},
   "outputs": [
    {
     "data": {
      "text/plain": [
       "GridSearchCV(cv=3,\n",
       "             estimator=Pipeline(steps=[('countvectorizer',\n",
       "                                        CountVectorizer(stop_words='english')),\n",
       "                                       ('logisticregression',\n",
       "                                        LogisticRegression(max_iter=1000))]),\n",
       "             n_jobs=-1,\n",
       "             param_grid=[{'countvectorizer__max_features': [10, 100, 1000,\n",
       "                                                            10000, 100000],\n",
       "                          'logisticregression__C': array([ 0.03162278,  0.1       ,  0.31622777,  1.        ,  3.16227766,\n",
       "       10.        , 31.6227766 ])}])"
      ]
     },
     "execution_count": 42,
     "metadata": {},
     "output_type": "execute_result"
    }
   ],
   "source": [
    "grid = GridSearchCV(estimator = pipe, param_grid = params , n_jobs = -1, cv = 3)\n",
    "\n",
    "grid.fit(X_train, y_train)"
   ]
  },
  {
   "cell_type": "code",
   "execution_count": 43,
   "metadata": {},
   "outputs": [
    {
     "name": "stdout",
     "output_type": "stream",
     "text": [
      "{'countvectorizer__max_features': 100000, 'logisticregression__C': 1.0}\n",
      "score = 0.8971771592775974\n"
     ]
    }
   ],
   "source": [
    "print(grid.best_params_)\n",
    "print(\"score =\",grid.best_score_)"
   ]
  },
  {
   "cell_type": "markdown",
   "metadata": {
    "id": "LA7LqKMiYrN1"
   },
   "source": [
    "<br><br>"
   ]
  },
  {
   "cell_type": "markdown",
   "metadata": {
    "id": "dowrECydYrN2"
   },
   "source": [
    "#### 3(d)\n",
    "rubric={points:5}\n",
    "\n",
    "- Evaluate your final model on the test set. \n",
    "- How does your test accuracy compare to your validation accuracy? \n",
    "- If they are different: do you think this is because you \"overfitted on the validation set\", or simply random luck?"
   ]
  },
  {
   "cell_type": "markdown",
   "metadata": {
    "id": "jWR3ox3DYrN2"
   },
   "source": []
  },
  {
   "cell_type": "code",
   "execution_count": 44,
   "metadata": {},
   "outputs": [],
   "source": [
    "X = tweets_df[\"content\"]\n",
    "y = tweets_df[\"retweets\"] > 10_000\n",
    "X_train, X_test, y_train, y_test = train_test_split(X, y, train_size = 0.80)"
   ]
  },
  {
   "cell_type": "code",
   "execution_count": 45,
   "metadata": {},
   "outputs": [],
   "source": [
    "pipe = make_pipeline(\n",
    "        CountVectorizer(stop_words=\"english\", max_features = 100000),\n",
    "        LogisticRegression(max_iter=1000, C = 1.0))"
   ]
  },
  {
   "cell_type": "code",
   "execution_count": 46,
   "metadata": {},
   "outputs": [
    {
     "data": {
      "text/plain": [
       "Pipeline(steps=[('countvectorizer',\n",
       "                 CountVectorizer(max_features=100000, stop_words='english')),\n",
       "                ('logisticregression', LogisticRegression(max_iter=1000))])"
      ]
     },
     "execution_count": 46,
     "metadata": {},
     "output_type": "execute_result"
    }
   ],
   "source": [
    "pipe.fit(X_train, y_train)"
   ]
  },
  {
   "cell_type": "code",
   "execution_count": 47,
   "metadata": {},
   "outputs": [
    {
     "data": {
      "text/plain": [
       "0.8986276092722869"
      ]
     },
     "execution_count": 47,
     "metadata": {},
     "output_type": "execute_result"
    }
   ],
   "source": [
    "pipe.score(X_test, y_test)"
   ]
  },
  {
   "cell_type": "markdown",
   "metadata": {
    "id": "3mDaFYsPYrN2"
   },
   "source": [
    "<br><br><br><br>"
   ]
  },
  {
   "cell_type": "markdown",
   "metadata": {
    "id": "iTP8_-49YrN2"
   },
   "source": [
    "## Exercise 4: Very short answer questions\n",
    "rubric={points:10}\n",
    "\n",
    "Each question is worth 2 points. Max 2 sentences per answer."
   ]
  },
  {
   "cell_type": "markdown",
   "metadata": {
    "id": "1YSHbjMkYrN2"
   },
   "source": [
    "1. What is the problem with calling `fit_transform` on your test data with `CountVectorizer`? \n",
    "2. Why is it important to follow the Golden Rule? If you violate it, will that give you a worse classifier?\n",
    "3. If you could only access one of `predict` or `predict_proba`, which one would you choose? Briefly explain.\n",
    "4. What are two advantages of using sklearn `Pipeline`s? \n",
    "5. What are two advantages of `RandomizedSearchCV` over `GridSearchCV`?"
   ]
  },
  {
   "cell_type": "markdown",
   "metadata": {
    "id": "vcn0VUmZYrN3"
   },
   "source": []
  },
  {
   "cell_type": "markdown",
   "metadata": {
    "id": "PPzVWykRYrN3"
   },
   "source": [
    "<br><br><br><br>"
   ]
  },
  {
   "cell_type": "markdown",
   "metadata": {
    "id": "ZwNvQfgpYrN3"
   },
   "source": [
    "## Submission instructions \n",
    "\n",
    "**PLEASE READ:** When you are ready to submit your assignment do the following:\n",
    "\n",
    "1. Run all cells in your notebook to make sure there are no errors by doing `Kernel -> Restart Kernel and Clear All Outputs` and then `Run -> Run All Cells`. \n",
    "2. Notebooks with cell execution numbers out of order or not starting from “1” will have marks deducted. Notebooks without the output displayed may not be graded at all (because we need to see the output in order to grade your work).\n",
    "3. Upload the assignment using Gradescope's drag and drop tool. Check out this [Gradescope Student Guide](https://lthub.ubc.ca/guides/gradescope-student-guide/) if you need help with Gradescope submission. "
   ]
  }
 ],
 "metadata": {
  "celltoolbar": "Create Assignment",
  "colab": {
   "provenance": []
  },
  "kernelspec": {
   "display_name": "Python 3 (ipykernel)",
   "language": "python",
   "name": "python3"
  },
  "language_info": {
   "codemirror_mode": {
    "name": "ipython",
    "version": 3
   },
   "file_extension": ".py",
   "mimetype": "text/x-python",
   "name": "python",
   "nbconvert_exporter": "python",
   "pygments_lexer": "ipython3",
   "version": "3.9.13"
  },
  "widgets": {
   "application/vnd.jupyter.widget-state+json": {
    "state": {},
    "version_major": 2,
    "version_minor": 0
   }
  }
 },
 "nbformat": 4,
 "nbformat_minor": 1
}
