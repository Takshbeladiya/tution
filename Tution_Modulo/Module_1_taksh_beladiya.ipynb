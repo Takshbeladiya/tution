{
 "cells": [
  {
   "cell_type": "code",
   "execution_count": null,
   "id": "566cabfc",
   "metadata": {},
   "outputs": [],
   "source": [
    "# 1. Write a python program to sum of the first n positive integers.\n",
    "\n",
    "print('ans = ',sum(range(1,int(input('Enter = '))+1)))"
   ]
  },
  {
   "cell_type": "code",
   "execution_count": null,
   "id": "aa23db10",
   "metadata": {},
   "outputs": [],
   "source": [
    "# 2. Write a Python program to count occurrences of a substring in a string.\n",
    "\n",
    "str1=str(input('Enter string =').split(' '))\n",
    "str2=str(input('Enter sub string ='))\n",
    "print(str1.count(str2))"
   ]
  },
  {
   "cell_type": "code",
   "execution_count": null,
   "id": "a9b95889",
   "metadata": {},
   "outputs": [],
   "source": [
    "# 3. Write a Python program to count the occurrences of each word in a given sentence.\n",
    "\n",
    "str1=str(input('Enter the sentence = '))\n",
    "dict1={}\n",
    "for i in str1:\n",
    "    if i not in dict1:\n",
    "        dict1[i]=1\n",
    "    else:\n",
    "        dict1[i]+=1\n",
    "print(dict1)"
   ]
  },
  {
   "cell_type": "code",
   "execution_count": null,
   "id": "5ac935b5",
   "metadata": {},
   "outputs": [],
   "source": [
    "# 4. Write a Python program to get a single string from two given strings, separated by a space and swap the first\n",
    "# two characters of each string. \n",
    "\n",
    "str1=str(input())\n",
    "str2=str(input())\n",
    "print(str1[1::-1]+str1[2:]+' '+str2[1::-1]+str2[2:])"
   ]
  },
  {
   "cell_type": "code",
   "execution_count": null,
   "id": "d847ba2f",
   "metadata": {},
   "outputs": [],
   "source": [
    "# 5. Write a Python program to add 'ing' at the end of a given string (length should be at least 3).\n",
    "# If the given string already ends with 'ing' then add 'ly' instead If the string length of the given\n",
    "# string is less than 3, leave it unchanged \n",
    "\n",
    "str1=str(input())\n",
    "if str1[-3::+1] == 'ing':\n",
    "    print(str1[:-3]+'ly')\n",
    "elif len(str1)==3:\n",
    "    print(str1+'ing')\n",
    "elif len(str1)<3:\n",
    "    print(str1)"
   ]
  },
  {
   "cell_type": "code",
   "execution_count": null,
   "id": "e72c50c4",
   "metadata": {},
   "outputs": [],
   "source": [
    "# 6. Write a Python program to find the first appearance of the substring 'not' and 'poor' from a given string, if\n",
    "# 'not' follows the 'poor', replace the whole 'not'...'poor' substring with 'good'.\n",
    "# Return the resulting string\n",
    "\n",
    "str1='this is not that poor while being not that poor'\n",
    "start=0\n",
    "for i in str1.split(' '):\n",
    "    if i=='not':\n",
    "        start=1\n",
    "        print('good',end=' ')\n",
    "    elif start==0:\n",
    "        print(i,end=' ')    \n",
    "    elif i=='poor':\n",
    "        start=0"
   ]
  },
  {
   "cell_type": "code",
   "execution_count": null,
   "id": "4f8b2e48",
   "metadata": {},
   "outputs": [],
   "source": [
    "# 7. Program to find Greatest Common Divisor of two numbers.\n",
    "# For example, the GCD of 20 and 28 is 4 and GCD of 98 and 56 is 14.\n",
    "\n",
    "no=list(map(int,input().split(' ')))\n",
    "list1=[]\n",
    "for i in range(1,no[0]+1):\n",
    "    count=0\n",
    "    for j in range(len(no)):\n",
    "        if no[j]%i==0:\n",
    "            count+=1\n",
    "        if count==len(no):\n",
    "            list1.append(i)\n",
    "            break\n",
    "print('GCD=',list1[len(list1)-1])"
   ]
  },
  {
   "cell_type": "code",
   "execution_count": null,
   "id": "c54d5d6c",
   "metadata": {},
   "outputs": [],
   "source": [
    "# 8. Write a Python program to check whether a list contains a sublist\n",
    "\n",
    "list1=list(map(str,input().split(' ')))\n",
    "list2=list(map(str,input().split(' ')))\n",
    "for i in range(len(list1)):\n",
    "    if list1[i:i+len(list2)]==list2:\n",
    "        print('sublist is present')\n",
    "        break\n",
    "else:\n",
    "    print('no')"
   ]
  },
  {
   "cell_type": "code",
   "execution_count": null,
   "id": "ec5eea65",
   "metadata": {},
   "outputs": [],
   "source": [
    "# 9. Write a Python program to find the second smallest number in a list. \n",
    "\n",
    "print(sorted(list(map(int,input().split(' '))))[-2])"
   ]
  },
  {
   "cell_type": "code",
   "execution_count": 1,
   "id": "587c7899",
   "metadata": {},
   "outputs": [
    {
     "name": "stdout",
     "output_type": "stream",
     "text": [
      "a b c d e d s d a b c e s a d b\n",
      "['a', 'b', 'c', 'd', 'e', 's']\n"
     ]
    }
   ],
   "source": [
    "# 10. Write a Python program to get unique values from a list\n",
    "\n",
    "list1=list(input().split(' '))\n",
    "dict1={}\n",
    "for i in list1:\n",
    "    if i not in dict1:\n",
    "        dict1[i]=1\n",
    "    else:\n",
    "        dict1[i]=1\n",
    "print(list(dict1.keys()))"
   ]
  },
  {
   "cell_type": "code",
   "execution_count": 7,
   "id": "d9421fca",
   "metadata": {},
   "outputs": [
    {
     "name": "stdout",
     "output_type": "stream",
     "text": [
      "['Akshat', 1, 'Bro', 2, 'is', 3, 'Placed', 4]\n"
     ]
    }
   ],
   "source": [
    "# 11. Write a Python program to unzip a list of tuples into individual lists.\n",
    "\n",
    "list1=[('Akshat', 1), ('Bro', 2), ('is', 3), ('Placed', 4)]\n",
    "list2=[]\n",
    "for i in list1:\n",
    "    for j in i:\n",
    "        list2.append(j)\n",
    "print(list2)"
   ]
  },
  {
   "cell_type": "code",
   "execution_count": 18,
   "id": "fe8a6082",
   "metadata": {},
   "outputs": [
    {
     "name": "stdout",
     "output_type": "stream",
     "text": [
      "{'Akshat': 1, 'Bro': 2, 'is': 3, 'Placed': 4}\n"
     ]
    }
   ],
   "source": [
    "# 12. Write a Python program to convert a list of tuples into a dictionary\n",
    "\n",
    "list1=[('Akshat', 1), ('Bro', 2), ('is', 3), ('Placed', 4)]\n",
    "print(dict(list1))"
   ]
  },
  {
   "cell_type": "code",
   "execution_count": 40,
   "id": "1102bda7",
   "metadata": {},
   "outputs": [
    {
     "name": "stdout",
     "output_type": "stream",
     "text": [
      "[2, 3, 4, 5, 6]\n",
      "[6, 5, 4, 3, 2]\n"
     ]
    }
   ],
   "source": [
    "# 13. Write a Python program to sort a dictionary (ascending /descending) by value\n",
    "\n",
    "a=[3,4,2,5,6]\n",
    "print(sorted(a))\n",
    "print(sorted(a, reverse=True))"
   ]
  },
  {
   "cell_type": "code",
   "execution_count": 55,
   "id": "e06b8210",
   "metadata": {},
   "outputs": [
    {
     "name": "stdout",
     "output_type": "stream",
     "text": [
      "[('bus', 1), ('tree', 3), ('car', 6)]\n"
     ]
    }
   ],
   "source": [
    "# 14. Write a Python program to find the highest 3 values in a dictionary.\n",
    "\n",
    "print(sorted({'tree':3 ,'car':6 ,'bus':1 ,'bike':10 ,'ship':6}.items(),key=lambda x: x[-1])[:3])"
   ]
  },
  {
   "cell_type": "code",
   "execution_count": 61,
   "id": "bd77aed2",
   "metadata": {},
   "outputs": [
    {
     "name": "stdout",
     "output_type": "stream",
     "text": [
      "7\n",
      "0\n",
      "1\n",
      "1\n",
      "2\n",
      "3\n",
      "5\n",
      "8\n",
      "13\n"
     ]
    }
   ],
   "source": [
    "# 15. Given a number n, write a python program to make and print the list of Fibonacci series up to n.\n",
    "# Input : n=7\n",
    "# Hint : first 7 numbers in the series\n",
    "# Expected output :\n",
    "# First few Fibonacci numbers are 0, 1, 1, 2, 3, 5, 8, 13\n",
    "\n",
    "n=int(input())\n",
    "a,b,c=0,1,0\n",
    "for i in range(n+1):\n",
    "    print(a)\n",
    "    c=a+b\n",
    "    a=b\n",
    "    b=c"
   ]
  },
  {
   "cell_type": "code",
   "execution_count": 65,
   "id": "82973f26",
   "metadata": {},
   "outputs": [
    {
     "name": "stdout",
     "output_type": "stream",
     "text": [
      "1 2 2 2 3 3 1 2 1 2 4\n",
      "{1: 3, 2: 5, 3: 2, 4: 1}\n"
     ]
    }
   ],
   "source": [
    "# 16. Counting the frequencies in a list using a dictionary in Python.\n",
    "# Input : [1, 1, 1, 5, 5, 3, 1, 3, 3, 1,4, 4, 4, 2, 2, 2, 2]\n",
    "# Expected output : 1 : 5 , 2 : 4 , 3 : 3 , 4 : 3 , 5 : 2\n",
    "\n",
    "str1=list(map(int,input().split(' ')))\n",
    "dict1={}\n",
    "for i in str1:\n",
    "    if i not in dict1:\n",
    "        dict1[i]=1\n",
    "    else:\n",
    "        dict1[i]+=1\n",
    "print(dict1)"
   ]
  },
  {
   "cell_type": "code",
   "execution_count": 78,
   "id": "c0ab5dae",
   "metadata": {},
   "outputs": [
    {
     "name": "stdout",
     "output_type": "stream",
     "text": [
      "3\n",
      "odd =  33.06666666666666\n",
      "even =  31.833333333333336\n"
     ]
    }
   ],
   "source": [
    "# 17. Write a python program using function to find the sum of odd series and even series\n",
    "# Odd series: 12/ 1! + 32/ 3! + 52/ 5!+……n\n",
    "# Even series: 22/ 2! + 42/ 4! + 62/ 6!+……n\n",
    "\n",
    "n=int(input())\n",
    "ans=0\n",
    "for i in range(1,n+1):\n",
    "    ans=ans+((((i*2)-1)*10)+2)/((i*2)-1)\n",
    "print('odd = ',ans)\n",
    "ans=0\n",
    "for i in range(1,n+1):\n",
    "    ans=ans+(((i*2)*10)+2)/(i*2)\n",
    "print('even = ',ans)"
   ]
  },
  {
   "cell_type": "code",
   "execution_count": 79,
   "id": "2fed620e",
   "metadata": {},
   "outputs": [
    {
     "data": {
      "text/plain": [
       "120"
      ]
     },
     "execution_count": 79,
     "metadata": {},
     "output_type": "execute_result"
    }
   ],
   "source": [
    "# 18. Python Program to Find Factorial of Number Using Recursion\n",
    "\n",
    "def fact(n):\n",
    "    if n==1:\n",
    "        return 1\n",
    "    else:\n",
    "        return n * fact(n-1) \n",
    "\n",
    "fact(5)"
   ]
  },
  {
   "cell_type": "code",
   "execution_count": 89,
   "id": "2dd07115",
   "metadata": {},
   "outputs": [
    {
     "name": "stdout",
     "output_type": "stream",
     "text": [
      "['a', 'b', 'c', 'f']\n"
     ]
    }
   ],
   "source": [
    "# 19. Write a Python function that takes a list and returns a new list with unique elements of the first list.\n",
    "\n",
    "def fun(list1,dict1={}):\n",
    "    for i in list1:\n",
    "        if i not in dict1:\n",
    "            dict1[i]=1\n",
    "        else:\n",
    "            dict1[i]+=1\n",
    "    return list(dict1.keys())\n",
    "\n",
    "list1=['a','a','a','b','b','c','f','f','f','f']\n",
    "print(fun(list1))"
   ]
  },
  {
   "cell_type": "code",
   "execution_count": 100,
   "id": "79f4cdd6",
   "metadata": {},
   "outputs": [
    {
     "name": "stdout",
     "output_type": "stream",
     "text": [
      "50\n"
     ]
    }
   ],
   "source": [
    "# 20. Mini project :\n",
    "# Problem Statement : Password Generator\n",
    "# Make a program to generate a strong password using the input given by the user. To generate a password,\n",
    "# randomly take some words from the user input and then include numbers, special characters and capital\n",
    "# letters to generate the password. Also, keep a check that password length is more than 8 characters.\n",
    "# Note: Include Exception handling wherever required. Also, make a ‘User’ class and store the details like user\n",
    "# id, name and password of each user as a tuple. \n",
    "\n",
    "import random\n",
    "\n",
    "word=str(input())\n",
    "if "
   ]
  }
 ],
 "metadata": {
  "kernelspec": {
   "display_name": "Python 3 (ipykernel)",
   "language": "python",
   "name": "python3"
  },
  "language_info": {
   "codemirror_mode": {
    "name": "ipython",
    "version": 3
   },
   "file_extension": ".py",
   "mimetype": "text/x-python",
   "name": "python",
   "nbconvert_exporter": "python",
   "pygments_lexer": "ipython3",
   "version": "3.9.13"
  }
 },
 "nbformat": 4,
 "nbformat_minor": 5
}
